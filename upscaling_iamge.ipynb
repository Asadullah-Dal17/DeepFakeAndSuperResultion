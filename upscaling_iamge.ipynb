{
  "nbformat": 4,
  "nbformat_minor": 0,
  "metadata": {
    "colab": {
      "name": "upscaling iamge",
      "provenance": [],
      "collapsed_sections": [],
      "authorship_tag": "ABX9TyPWpIwAFKo1F8+fEPuV7NPb",
      "include_colab_link": true
    },
    "kernelspec": {
      "name": "python3",
      "display_name": "Python 3"
    },
    "language_info": {
      "name": "python"
    },
    "accelerator": "GPU"
  },
  "cells": [
    {
      "cell_type": "markdown",
      "metadata": {
        "id": "view-in-github",
        "colab_type": "text"
      },
      "source": [
        "<a href=\"https://colab.research.google.com/github/Asadullah-Dal17/DeepFakeAndSuperResultion/blob/master/upscaling_iamge.ipynb\" target=\"_parent\"><img src=\"https://colab.research.google.com/assets/colab-badge.svg\" alt=\"Open In Colab\"/></a>"
      ]
    },
    {
      "cell_type": "markdown",
      "metadata": {
        "id": "vNylZIStZflz"
      },
      "source": [
        "Creating upscaling image notebook"
      ]
    },
    {
      "cell_type": "markdown",
      "metadata": {
        "id": "9Y-VQKDraHJ1"
      },
      "source": [
        "mounting the Google drive to colab"
      ]
    },
    {
      "cell_type": "code",
      "metadata": {
        "colab": {
          "base_uri": "https://localhost:8080/"
        },
        "id": "OLGJTZTxZWs7",
        "outputId": "46e748f3-78fc-461f-f184-c5e2b80ceb56"
      },
      "source": [
        "from google.colab import drive\n",
        "drive.mount('/content/drive')"
      ],
      "execution_count": null,
      "outputs": [
        {
          "output_type": "stream",
          "text": [
            "Mounted at /content/drive\n"
          ],
          "name": "stdout"
        }
      ]
    },
    {
      "cell_type": "code",
      "metadata": {
        "colab": {
          "base_uri": "https://localhost:8080/"
        },
        "id": "8axSQlqIaSFO",
        "outputId": "98bcc86d-80d3-45e5-eea0-45391d8720fa"
      },
      "source": [
        "ls"
      ],
      "execution_count": null,
      "outputs": [
        {
          "output_type": "stream",
          "text": [
            "\u001b[0m\u001b[01;34mdrive\u001b[0m/  \u001b[01;34msample_data\u001b[0m/\n"
          ],
          "name": "stdout"
        }
      ]
    },
    {
      "cell_type": "code",
      "metadata": {
        "colab": {
          "base_uri": "https://localhost:8080/"
        },
        "id": "_UZppUHVae_f",
        "outputId": "c40c0f76-8c78-4993-881d-06ee2c7c94cc"
      },
      "source": [
        "cd drive/MyDrive/"
      ],
      "execution_count": null,
      "outputs": [
        {
          "output_type": "stream",
          "text": [
            "/content/drive/MyDrive\n"
          ],
          "name": "stdout"
        }
      ]
    },
    {
      "cell_type": "code",
      "metadata": {
        "colab": {
          "base_uri": "https://localhost:8080/"
        },
        "id": "W01tivMxaio6",
        "outputId": "7abd10eb-fa5e-4ae2-dff6-7db213497745"
      },
      "source": [
        "ls"
      ],
      "execution_count": null,
      "outputs": [
        {
          "output_type": "stream",
          "text": [
            " \u001b[0m\u001b[01;36m22first-order-motion-model\u001b[0m@   \u001b[01;34mDeepFake2\u001b[0m/\n",
            " \u001b[01;34mcartoonize\u001b[0m/                   \u001b[01;34mDeOldify\u001b[0m/\n",
            "\u001b[01;34m'Colab Notebooks'\u001b[0m/             \u001b[01;36mfirst-order-model-checkpoints\u001b[0m@\n",
            "'Copy of 06.png'               \u001b[01;34mFirst-order-motion-model\u001b[0m/\n",
            "'Copy of checkpoint'           \u001b[01;34mgenerative_inpainting\u001b[0m/\n",
            "'Copy of doll-01.png'          \u001b[01;34mmodels\u001b[0m/\n",
            "'Copy of doll-08.png'          \u001b[01;34mSuper_Resolution\u001b[0m/\n",
            "'Copy of got-04.png'           \u001b[01;34mTecoGAN\u001b[0m/\n",
            "'Copy of got-07.png'           \u001b[01;34mUpScaling\u001b[0m/\n",
            "'Copy of statue-02.png'       'upscaling iamge'\n",
            "'Copy of statue-04.png'       'Youtube Video Discription formate.gdoc'\n",
            " \u001b[01;34mdeepfake\u001b[0m/\n"
          ],
          "name": "stdout"
        }
      ]
    },
    {
      "cell_type": "code",
      "metadata": {
        "id": "VDmIP-mvamIP"
      },
      "source": [
        "mkdir UpScaling"
      ],
      "execution_count": null,
      "outputs": []
    },
    {
      "cell_type": "code",
      "metadata": {
        "colab": {
          "base_uri": "https://localhost:8080/"
        },
        "id": "qlKhlZoXatAQ",
        "outputId": "15eac846-a03c-47dd-95e0-87212f0c88eb"
      },
      "source": [
        "cd UpScaling"
      ],
      "execution_count": null,
      "outputs": [
        {
          "output_type": "stream",
          "text": [
            "/content/drive/MyDrive/UpScaling\n"
          ],
          "name": "stdout"
        }
      ]
    },
    {
      "cell_type": "code",
      "metadata": {
        "colab": {
          "base_uri": "https://localhost:8080/"
        },
        "id": "B1ikilwia1Pl",
        "outputId": "b7b91e8b-5286-4854-cd5e-5ef36132c7ad"
      },
      "source": [
        "!git clone https://github.com/csxmli2016/DFDNet.git\n"
      ],
      "execution_count": null,
      "outputs": [
        {
          "output_type": "stream",
          "text": [
            "Cloning into 'DFDNet'...\n",
            "remote: Enumerating objects: 563, done.\u001b[K\n",
            "remote: Total 563 (delta 0), reused 0 (delta 0), pack-reused 563\u001b[K\n",
            "Receiving objects: 100% (563/563), 20.38 MiB | 5.48 MiB/s, done.\n",
            "Resolving deltas: 100% (200/200), done.\n",
            "Checking out files: 100% (149/149), done.\n"
          ],
          "name": "stdout"
        }
      ]
    },
    {
      "cell_type": "code",
      "metadata": {
        "colab": {
          "base_uri": "https://localhost:8080/"
        },
        "id": "jx4TWc-HbFmL",
        "outputId": "f712b9e0-e636-4d0e-8582-4702edf4c5a6"
      },
      "source": [
        "cd DFDNet/"
      ],
      "execution_count": null,
      "outputs": [
        {
          "output_type": "stream",
          "text": [
            "/content/drive/MyDrive/UpScaling/DFDNet\n"
          ],
          "name": "stdout"
        }
      ]
    },
    {
      "cell_type": "code",
      "metadata": {
        "colab": {
          "base_uri": "https://localhost:8080/"
        },
        "id": "aH7MC_6fbNY3",
        "outputId": "bde50826-89ac-484e-ffa2-eb1819049ce7"
      },
      "source": [
        "ls\n"
      ],
      "execution_count": null,
      "outputs": [
        {
          "output_type": "stream",
          "text": [
            "\u001b[0m\u001b[01;34mdata\u001b[0m/                   \u001b[01;34mImgs\u001b[0m/     \u001b[01;34mpackages\u001b[0m/        \u001b[01;34mTestData\u001b[0m/\n",
            "\u001b[01;34mface-alignment\u001b[0m/         \u001b[01;34mmodels\u001b[0m/   README.md        test_FaceDict.py\n",
            "\u001b[01;34mFaceLandmarkDetection\u001b[0m/  \u001b[01;34moptions\u001b[0m/  \u001b[01;34msync_batchnorm\u001b[0m/  \u001b[01;34mutil\u001b[0m/\n"
          ],
          "name": "stdout"
        }
      ]
    },
    {
      "cell_type": "code",
      "metadata": {
        "colab": {
          "base_uri": "https://localhost:8080/"
        },
        "id": "pcyHrZFwbbRy",
        "outputId": "cba5d69f-dd36-4179-dde6-21592e2035c1"
      },
      "source": [
        "# clone face alignment repository\n",
        "!git clone https://github.com/1adrianb/face-alignment.git"
      ],
      "execution_count": null,
      "outputs": [
        {
          "output_type": "stream",
          "text": [
            "Cloning into 'face-alignment'...\n",
            "remote: Enumerating objects: 22, done.\u001b[K\n",
            "remote: Counting objects: 100% (22/22), done.\u001b[K\n",
            "remote: Compressing objects: 100% (17/17), done.\u001b[K\n",
            "remote: Total 991 (delta 6), reused 10 (delta 5), pack-reused 969\u001b[K\n",
            "Receiving objects: 100% (991/991), 5.25 MiB | 12.88 MiB/s, done.\n",
            "Resolving deltas: 100% (607/607), done.\n"
          ],
          "name": "stdout"
        }
      ]
    },
    {
      "cell_type": "code",
      "metadata": {
        "colab": {
          "base_uri": "https://localhost:8080/"
        },
        "id": "q_NGSQa8bj6U",
        "outputId": "13d3d53b-d08a-4dc0-af7c-76dee3ddf106"
      },
      "source": [
        "cd face-alignment/"
      ],
      "execution_count": null,
      "outputs": [
        {
          "output_type": "stream",
          "text": [
            "/content/drive/My Drive/UpScaling/DFDNet/face-alignment\n"
          ],
          "name": "stdout"
        }
      ]
    },
    {
      "cell_type": "code",
      "metadata": {
        "colab": {
          "base_uri": "https://localhost:8080/"
        },
        "id": "PVehFTCFbvCN",
        "outputId": "46b78142-ae78-47e6-9ba7-21340eb140f5"
      },
      "source": [
        "ls"
      ],
      "execution_count": null,
      "outputs": [
        {
          "output_type": "stream",
          "text": [
            "\u001b[0m\u001b[01;34mconda\u001b[0m/      \u001b[01;34mdocs\u001b[0m/      \u001b[01;34mface_alignment\u001b[0m/  README.md         setup.cfg  \u001b[01;34mtest\u001b[0m/\n",
            "Dockerfile  \u001b[01;34mexamples\u001b[0m/  LICENSE          requirements.txt  setup.py   tox.ini\n"
          ],
          "name": "stdout"
        }
      ]
    },
    {
      "cell_type": "code",
      "metadata": {
        "colab": {
          "base_uri": "https://localhost:8080/"
        },
        "id": "oQ7nZubfb6qG",
        "outputId": "b9b004e0-f8e7-42c0-8909-b106e76563ae"
      },
      "source": [
        "!pip3 install -r requirements.txt"
      ],
      "execution_count": null,
      "outputs": [
        {
          "output_type": "stream",
          "text": [
            "Requirement already satisfied: opencv-python in /usr/local/lib/python3.7/dist-packages (from -r requirements.txt (line 1)) (4.1.2.30)\n",
            "Requirement already satisfied: scipy>=0.17.0 in /usr/local/lib/python3.7/dist-packages (from -r requirements.txt (line 2)) (1.4.1)\n",
            "Requirement already satisfied: scikit-image in /usr/local/lib/python3.7/dist-packages (from -r requirements.txt (line 3)) (0.16.2)\n",
            "Requirement already satisfied: numba in /usr/local/lib/python3.7/dist-packages (from -r requirements.txt (line 4)) (0.51.2)\n",
            "Requirement already satisfied: numpy>=1.14.5 in /usr/local/lib/python3.7/dist-packages (from opencv-python->-r requirements.txt (line 1)) (1.19.5)\n",
            "Requirement already satisfied: PyWavelets>=0.4.0 in /usr/local/lib/python3.7/dist-packages (from scikit-image->-r requirements.txt (line 3)) (1.1.1)\n",
            "Requirement already satisfied: imageio>=2.3.0 in /usr/local/lib/python3.7/dist-packages (from scikit-image->-r requirements.txt (line 3)) (2.4.1)\n",
            "Requirement already satisfied: pillow>=4.3.0 in /usr/local/lib/python3.7/dist-packages (from scikit-image->-r requirements.txt (line 3)) (7.0.0)\n",
            "Requirement already satisfied: matplotlib!=3.0.0,>=2.0.0 in /usr/local/lib/python3.7/dist-packages (from scikit-image->-r requirements.txt (line 3)) (3.2.2)\n",
            "Requirement already satisfied: networkx>=2.0 in /usr/local/lib/python3.7/dist-packages (from scikit-image->-r requirements.txt (line 3)) (2.5)\n",
            "Requirement already satisfied: llvmlite<0.35,>=0.34.0.dev0 in /usr/local/lib/python3.7/dist-packages (from numba->-r requirements.txt (line 4)) (0.34.0)\n",
            "Requirement already satisfied: setuptools in /usr/local/lib/python3.7/dist-packages (from numba->-r requirements.txt (line 4)) (54.1.2)\n",
            "Requirement already satisfied: python-dateutil>=2.1 in /usr/local/lib/python3.7/dist-packages (from matplotlib!=3.0.0,>=2.0.0->scikit-image->-r requirements.txt (line 3)) (2.8.1)\n",
            "Requirement already satisfied: cycler>=0.10 in /usr/local/lib/python3.7/dist-packages (from matplotlib!=3.0.0,>=2.0.0->scikit-image->-r requirements.txt (line 3)) (0.10.0)\n",
            "Requirement already satisfied: kiwisolver>=1.0.1 in /usr/local/lib/python3.7/dist-packages (from matplotlib!=3.0.0,>=2.0.0->scikit-image->-r requirements.txt (line 3)) (1.3.1)\n",
            "Requirement already satisfied: pyparsing!=2.0.4,!=2.1.2,!=2.1.6,>=2.0.1 in /usr/local/lib/python3.7/dist-packages (from matplotlib!=3.0.0,>=2.0.0->scikit-image->-r requirements.txt (line 3)) (2.4.7)\n",
            "Requirement already satisfied: decorator>=4.3.0 in /usr/local/lib/python3.7/dist-packages (from networkx>=2.0->scikit-image->-r requirements.txt (line 3)) (4.4.2)\n",
            "Requirement already satisfied: six>=1.5 in /usr/local/lib/python3.7/dist-packages (from python-dateutil>=2.1->matplotlib!=3.0.0,>=2.0.0->scikit-image->-r requirements.txt (line 3)) (1.15.0)\n"
          ],
          "name": "stdout"
        }
      ]
    },
    {
      "cell_type": "code",
      "metadata": {
        "colab": {
          "base_uri": "https://localhost:8080/"
        },
        "id": "cfJ1oqSqcBbk",
        "outputId": "0c437206-1d2f-49e8-8a70-c01174c8da28"
      },
      "source": [
        "!python3 setup.py install"
      ],
      "execution_count": null,
      "outputs": [
        {
          "output_type": "stream",
          "text": [
            "/usr/local/lib/python3.7/dist-packages/setuptools/dist.py:645: UserWarning: Usage of dash-separated 'description-file' will not be supported in future versions. Please use the underscore name 'description_file' instead\n",
            "  % (opt, underscore_opt))\n",
            "running install\n",
            "running bdist_egg\n",
            "running egg_info\n",
            "writing face_alignment.egg-info/PKG-INFO\n",
            "writing dependency_links to face_alignment.egg-info/dependency_links.txt\n",
            "writing requirements to face_alignment.egg-info/requires.txt\n",
            "writing top-level names to face_alignment.egg-info/top_level.txt\n",
            "writing manifest file 'face_alignment.egg-info/SOURCES.txt'\n",
            "installing library code to build/bdist.linux-x86_64/egg\n",
            "running install_lib\n",
            "running build_py\n",
            "creating build/bdist.linux-x86_64/egg\n",
            "creating build/bdist.linux-x86_64/egg/face_alignment\n",
            "copying build/lib/face_alignment/api.py -> build/bdist.linux-x86_64/egg/face_alignment\n",
            "copying build/lib/face_alignment/__init__.py -> build/bdist.linux-x86_64/egg/face_alignment\n",
            "copying build/lib/face_alignment/utils.py -> build/bdist.linux-x86_64/egg/face_alignment\n",
            "creating build/bdist.linux-x86_64/egg/face_alignment/detection\n",
            "copying build/lib/face_alignment/detection/core.py -> build/bdist.linux-x86_64/egg/face_alignment/detection\n",
            "copying build/lib/face_alignment/detection/__init__.py -> build/bdist.linux-x86_64/egg/face_alignment/detection\n",
            "creating build/bdist.linux-x86_64/egg/face_alignment/detection/blazeface\n",
            "copying build/lib/face_alignment/detection/blazeface/net_blazeface.py -> build/bdist.linux-x86_64/egg/face_alignment/detection/blazeface\n",
            "copying build/lib/face_alignment/detection/blazeface/utils.py -> build/bdist.linux-x86_64/egg/face_alignment/detection/blazeface\n",
            "copying build/lib/face_alignment/detection/blazeface/detect.py -> build/bdist.linux-x86_64/egg/face_alignment/detection/blazeface\n",
            "copying build/lib/face_alignment/detection/blazeface/__init__.py -> build/bdist.linux-x86_64/egg/face_alignment/detection/blazeface\n",
            "copying build/lib/face_alignment/detection/blazeface/blazeface_detector.py -> build/bdist.linux-x86_64/egg/face_alignment/detection/blazeface\n",
            "creating build/bdist.linux-x86_64/egg/face_alignment/detection/dlib\n",
            "copying build/lib/face_alignment/detection/dlib/__init__.py -> build/bdist.linux-x86_64/egg/face_alignment/detection/dlib\n",
            "copying build/lib/face_alignment/detection/dlib/dlib_detector.py -> build/bdist.linux-x86_64/egg/face_alignment/detection/dlib\n",
            "creating build/bdist.linux-x86_64/egg/face_alignment/detection/folder\n",
            "copying build/lib/face_alignment/detection/folder/folder_detector.py -> build/bdist.linux-x86_64/egg/face_alignment/detection/folder\n",
            "copying build/lib/face_alignment/detection/folder/__init__.py -> build/bdist.linux-x86_64/egg/face_alignment/detection/folder\n",
            "creating build/bdist.linux-x86_64/egg/face_alignment/detection/sfd\n",
            "copying build/lib/face_alignment/detection/sfd/bbox.py -> build/bdist.linux-x86_64/egg/face_alignment/detection/sfd\n",
            "copying build/lib/face_alignment/detection/sfd/detect.py -> build/bdist.linux-x86_64/egg/face_alignment/detection/sfd\n",
            "copying build/lib/face_alignment/detection/sfd/sfd_detector.py -> build/bdist.linux-x86_64/egg/face_alignment/detection/sfd\n",
            "copying build/lib/face_alignment/detection/sfd/net_s3fd.py -> build/bdist.linux-x86_64/egg/face_alignment/detection/sfd\n",
            "copying build/lib/face_alignment/detection/sfd/__init__.py -> build/bdist.linux-x86_64/egg/face_alignment/detection/sfd\n",
            "byte-compiling build/bdist.linux-x86_64/egg/face_alignment/api.py to api.cpython-37.pyc\n",
            "byte-compiling build/bdist.linux-x86_64/egg/face_alignment/__init__.py to __init__.cpython-37.pyc\n",
            "byte-compiling build/bdist.linux-x86_64/egg/face_alignment/utils.py to utils.cpython-37.pyc\n",
            "byte-compiling build/bdist.linux-x86_64/egg/face_alignment/detection/core.py to core.cpython-37.pyc\n",
            "byte-compiling build/bdist.linux-x86_64/egg/face_alignment/detection/__init__.py to __init__.cpython-37.pyc\n",
            "byte-compiling build/bdist.linux-x86_64/egg/face_alignment/detection/blazeface/net_blazeface.py to net_blazeface.cpython-37.pyc\n",
            "byte-compiling build/bdist.linux-x86_64/egg/face_alignment/detection/blazeface/utils.py to utils.cpython-37.pyc\n",
            "byte-compiling build/bdist.linux-x86_64/egg/face_alignment/detection/blazeface/detect.py to detect.cpython-37.pyc\n",
            "byte-compiling build/bdist.linux-x86_64/egg/face_alignment/detection/blazeface/__init__.py to __init__.cpython-37.pyc\n",
            "byte-compiling build/bdist.linux-x86_64/egg/face_alignment/detection/blazeface/blazeface_detector.py to blazeface_detector.cpython-37.pyc\n",
            "byte-compiling build/bdist.linux-x86_64/egg/face_alignment/detection/dlib/__init__.py to __init__.cpython-37.pyc\n",
            "byte-compiling build/bdist.linux-x86_64/egg/face_alignment/detection/dlib/dlib_detector.py to dlib_detector.cpython-37.pyc\n",
            "byte-compiling build/bdist.linux-x86_64/egg/face_alignment/detection/folder/folder_detector.py to folder_detector.cpython-37.pyc\n",
            "byte-compiling build/bdist.linux-x86_64/egg/face_alignment/detection/folder/__init__.py to __init__.cpython-37.pyc\n",
            "byte-compiling build/bdist.linux-x86_64/egg/face_alignment/detection/sfd/bbox.py to bbox.cpython-37.pyc\n",
            "byte-compiling build/bdist.linux-x86_64/egg/face_alignment/detection/sfd/detect.py to detect.cpython-37.pyc\n",
            "byte-compiling build/bdist.linux-x86_64/egg/face_alignment/detection/sfd/sfd_detector.py to sfd_detector.cpython-37.pyc\n",
            "byte-compiling build/bdist.linux-x86_64/egg/face_alignment/detection/sfd/net_s3fd.py to net_s3fd.cpython-37.pyc\n",
            "byte-compiling build/bdist.linux-x86_64/egg/face_alignment/detection/sfd/__init__.py to __init__.cpython-37.pyc\n",
            "creating build/bdist.linux-x86_64/egg/EGG-INFO\n",
            "copying face_alignment.egg-info/PKG-INFO -> build/bdist.linux-x86_64/egg/EGG-INFO\n",
            "copying face_alignment.egg-info/SOURCES.txt -> build/bdist.linux-x86_64/egg/EGG-INFO\n",
            "copying face_alignment.egg-info/dependency_links.txt -> build/bdist.linux-x86_64/egg/EGG-INFO\n",
            "copying face_alignment.egg-info/requires.txt -> build/bdist.linux-x86_64/egg/EGG-INFO\n",
            "copying face_alignment.egg-info/top_level.txt -> build/bdist.linux-x86_64/egg/EGG-INFO\n",
            "copying face_alignment.egg-info/zip-safe -> build/bdist.linux-x86_64/egg/EGG-INFO\n",
            "creating 'dist/face_alignment-1.3.3-py3.7.egg' and adding 'build/bdist.linux-x86_64/egg' to it\n",
            "removing 'build/bdist.linux-x86_64/egg' (and everything under it)\n",
            "Processing face_alignment-1.3.3-py3.7.egg\n",
            "Copying face_alignment-1.3.3-py3.7.egg to /usr/local/lib/python3.7/dist-packages\n",
            "Adding face-alignment 1.3.3 to easy-install.pth file\n",
            "\n",
            "Installed /usr/local/lib/python3.7/dist-packages/face_alignment-1.3.3-py3.7.egg\n",
            "Processing dependencies for face-alignment==1.3.3\n",
            "Searching for numba==0.51.2\n",
            "Best match: numba 0.51.2\n",
            "Adding numba 0.51.2 to easy-install.pth file\n",
            "\n",
            "Using /usr/local/lib/python3.7/dist-packages\n",
            "Searching for tqdm==4.41.1\n",
            "Best match: tqdm 4.41.1\n",
            "Adding tqdm 4.41.1 to easy-install.pth file\n",
            "Installing tqdm script to /usr/local/bin\n",
            "\n",
            "Using /usr/local/lib/python3.7/dist-packages\n",
            "Searching for opencv-python==4.1.2.30\n",
            "Best match: opencv-python 4.1.2.30\n",
            "Adding opencv-python 4.1.2.30 to easy-install.pth file\n",
            "\n",
            "Using /usr/local/lib/python3.7/dist-packages\n",
            "Searching for scikit-image==0.16.2\n",
            "Best match: scikit-image 0.16.2\n",
            "Adding scikit-image 0.16.2 to easy-install.pth file\n",
            "Installing skivi script to /usr/local/bin\n",
            "\n",
            "Using /usr/local/lib/python3.7/dist-packages\n",
            "Searching for scipy==1.4.1\n",
            "Best match: scipy 1.4.1\n",
            "Adding scipy 1.4.1 to easy-install.pth file\n",
            "\n",
            "Using /usr/local/lib/python3.7/dist-packages\n",
            "Searching for numpy==1.19.5\n",
            "Best match: numpy 1.19.5\n",
            "Adding numpy 1.19.5 to easy-install.pth file\n",
            "Installing f2py script to /usr/local/bin\n",
            "Installing f2py3 script to /usr/local/bin\n",
            "Installing f2py3.7 script to /usr/local/bin\n",
            "\n",
            "Using /usr/local/lib/python3.7/dist-packages\n",
            "Searching for torch==1.8.0+cu101\n",
            "Best match: torch 1.8.0+cu101\n",
            "Adding torch 1.8.0+cu101 to easy-install.pth file\n",
            "Installing convert-caffe2-to-onnx script to /usr/local/bin\n",
            "Installing convert-onnx-to-caffe2 script to /usr/local/bin\n",
            "\n",
            "Using /usr/local/lib/python3.7/dist-packages\n",
            "Searching for llvmlite==0.34.0\n",
            "Best match: llvmlite 0.34.0\n",
            "Adding llvmlite 0.34.0 to easy-install.pth file\n",
            "\n",
            "Using /usr/local/lib/python3.7/dist-packages\n",
            "Searching for setuptools==54.1.2\n",
            "Best match: setuptools 54.1.2\n",
            "Adding setuptools 54.1.2 to easy-install.pth file\n",
            "\n",
            "Using /usr/local/lib/python3.7/dist-packages\n",
            "Searching for matplotlib==3.2.2\n",
            "Best match: matplotlib 3.2.2\n",
            "Adding matplotlib 3.2.2 to easy-install.pth file\n",
            "\n",
            "Using /usr/local/lib/python3.7/dist-packages\n",
            "Searching for Pillow==7.0.0\n",
            "Best match: Pillow 7.0.0\n",
            "Adding Pillow 7.0.0 to easy-install.pth file\n",
            "\n",
            "Using /usr/local/lib/python3.7/dist-packages\n",
            "Searching for networkx==2.5\n",
            "Best match: networkx 2.5\n",
            "Adding networkx 2.5 to easy-install.pth file\n",
            "\n",
            "Using /usr/local/lib/python3.7/dist-packages\n",
            "Searching for PyWavelets==1.1.1\n",
            "Best match: PyWavelets 1.1.1\n",
            "Adding PyWavelets 1.1.1 to easy-install.pth file\n",
            "\n",
            "Using /usr/local/lib/python3.7/dist-packages\n",
            "Searching for imageio==2.4.1\n",
            "Best match: imageio 2.4.1\n",
            "Adding imageio 2.4.1 to easy-install.pth file\n",
            "Installing imageio_download_bin script to /usr/local/bin\n",
            "Installing imageio_remove_bin script to /usr/local/bin\n",
            "\n",
            "Using /usr/local/lib/python3.7/dist-packages\n",
            "Searching for typing-extensions==3.7.4.3\n",
            "Best match: typing-extensions 3.7.4.3\n",
            "Adding typing-extensions 3.7.4.3 to easy-install.pth file\n",
            "\n",
            "Using /usr/local/lib/python3.7/dist-packages\n",
            "Searching for python-dateutil==2.8.1\n",
            "Best match: python-dateutil 2.8.1\n",
            "Adding python-dateutil 2.8.1 to easy-install.pth file\n",
            "\n",
            "Using /usr/local/lib/python3.7/dist-packages\n",
            "Searching for pyparsing==2.4.7\n",
            "Best match: pyparsing 2.4.7\n",
            "Adding pyparsing 2.4.7 to easy-install.pth file\n",
            "\n",
            "Using /usr/local/lib/python3.7/dist-packages\n",
            "Searching for cycler==0.10.0\n",
            "Best match: cycler 0.10.0\n",
            "Adding cycler 0.10.0 to easy-install.pth file\n",
            "\n",
            "Using /usr/local/lib/python3.7/dist-packages\n",
            "Searching for kiwisolver==1.3.1\n",
            "Best match: kiwisolver 1.3.1\n",
            "Adding kiwisolver 1.3.1 to easy-install.pth file\n",
            "\n",
            "Using /usr/local/lib/python3.7/dist-packages\n",
            "Searching for decorator==4.4.2\n",
            "Best match: decorator 4.4.2\n",
            "Adding decorator 4.4.2 to easy-install.pth file\n",
            "\n",
            "Using /usr/local/lib/python3.7/dist-packages\n",
            "Searching for six==1.15.0\n",
            "Best match: six 1.15.0\n",
            "Adding six 1.15.0 to easy-install.pth file\n",
            "\n",
            "Using /usr/local/lib/python3.7/dist-packages\n",
            "Finished processing dependencies for face-alignment==1.3.3\n"
          ],
          "name": "stdout"
        }
      ]
    },
    {
      "cell_type": "code",
      "metadata": {
        "colab": {
          "base_uri": "https://localhost:8080/"
        },
        "id": "YcjAdxg-cOVB",
        "outputId": "7a8c658a-96ed-483f-eac8-8ffadeea1456"
      },
      "source": [
        "cd .."
      ],
      "execution_count": null,
      "outputs": [
        {
          "output_type": "stream",
          "text": [
            "/content/drive/My Drive/UpScaling/DFDNet\n"
          ],
          "name": "stdout"
        }
      ]
    },
    {
      "cell_type": "code",
      "metadata": {
        "colab": {
          "base_uri": "https://localhost:8080/",
          "height": 35
        },
        "id": "LOfhIajBcVZ4",
        "outputId": "3c938b26-7c31-40a3-bf8a-830b9a8f1cc7"
      },
      "source": [
        "import torch\n",
        "torch.__version__"
      ],
      "execution_count": null,
      "outputs": [
        {
          "output_type": "execute_result",
          "data": {
            "application/vnd.google.colaboratory.intrinsic+json": {
              "type": "string"
            },
            "text/plain": [
              "'1.8.0+cu101'"
            ]
          },
          "metadata": {
            "tags": []
          },
          "execution_count": 20
        }
      ]
    },
    {
      "cell_type": "markdown",
      "metadata": {
        "id": "QDN1xYdjdGXY"
      },
      "source": [
        "install following package using pip\n",
        "1.   dilb\n",
        "2.   dominate\n",
        "3.   cv2 \n",
        "4.   tqdm\n"
      ]
    },
    {
      "cell_type": "code",
      "metadata": {
        "colab": {
          "base_uri": "https://localhost:8080/"
        },
        "id": "XG4YQExeddNH",
        "outputId": "f38bcd48-1037-4077-b8ed-2ab6d462c32e"
      },
      "source": [
        "!pip3 install dlib dominate opencv-python tqdm"
      ],
      "execution_count": null,
      "outputs": [
        {
          "output_type": "stream",
          "text": [
            "Requirement already satisfied: dlib in /usr/local/lib/python3.7/dist-packages (19.18.0)\n",
            "Requirement already satisfied: dominate in /usr/local/lib/python3.7/dist-packages (2.6.0)\n",
            "Requirement already satisfied: opencv-python in /usr/local/lib/python3.7/dist-packages (4.1.2.30)\n",
            "Requirement already satisfied: tqdm in /usr/local/lib/python3.7/dist-packages (4.41.1)\n",
            "Requirement already satisfied: numpy>=1.14.5 in /usr/local/lib/python3.7/dist-packages (from opencv-python) (1.19.5)\n"
          ],
          "name": "stdout"
        }
      ]
    },
    {
      "cell_type": "code",
      "metadata": {
        "colab": {
          "base_uri": "https://localhost:8080/"
        },
        "id": "bq6tslePdzpG",
        "outputId": "aa1d1415-f8b4-411e-8d32-e48b8d45de01"
      },
      "source": [
        "ls"
      ],
      "execution_count": null,
      "outputs": [
        {
          "output_type": "stream",
          "text": [
            "\u001b[0m\u001b[01;34mdata\u001b[0m/                   \u001b[01;34mImgs\u001b[0m/     \u001b[01;34mpackages\u001b[0m/        \u001b[01;34mTestData\u001b[0m/\n",
            "\u001b[01;34mface-alignment\u001b[0m/         \u001b[01;34mmodels\u001b[0m/   README.md        test_FaceDict.py\n",
            "\u001b[01;34mFaceLandmarkDetection\u001b[0m/  \u001b[01;34moptions\u001b[0m/  \u001b[01;34msync_batchnorm\u001b[0m/  \u001b[01;34mutil\u001b[0m/\n"
          ],
          "name": "stdout"
        }
      ]
    },
    {
      "cell_type": "code",
      "metadata": {
        "colab": {
          "base_uri": "https://localhost:8080/"
        },
        "id": "tQxM524Ac-5c",
        "outputId": "7f368bd6-f643-4677-9a7b-2fcc1005a25c"
      },
      "source": [
        "!wget https://drive.google.com/drive/folders/1778nIPPuFaUqiF-02APxhPvURRetN9r2?usp=sharing"
      ],
      "execution_count": null,
      "outputs": [
        {
          "output_type": "stream",
          "text": [
            "--2021-03-21 11:11:52--  https://drive.google.com/drive/folders/1778nIPPuFaUqiF-02APxhPvURRetN9r2?usp=sharing\n",
            "Resolving drive.google.com (drive.google.com)... 172.217.12.238, 2607:f8b0:4004:807::200e\n",
            "Connecting to drive.google.com (drive.google.com)|172.217.12.238|:443... connected.\n",
            "HTTP request sent, awaiting response... 200 OK\n",
            "Length: unspecified [text/html]\n",
            "Saving to: ‘1778nIPPuFaUqiF-02APxhPvURRetN9r2?usp=sharing’\n",
            "\n",
            "1778nIPPuFaUqiF-02A     [ <=>                ] 217.02K  --.-KB/s    in 0.1s    \n",
            "\n",
            "2021-03-21 11:11:52 (1.43 MB/s) - ‘1778nIPPuFaUqiF-02APxhPvURRetN9r2?usp=sharing’ saved [222224]\n",
            "\n"
          ],
          "name": "stdout"
        }
      ]
    },
    {
      "cell_type": "code",
      "metadata": {
        "colab": {
          "base_uri": "https://localhost:8080/"
        },
        "id": "r-C74C0FfD9W",
        "outputId": "7939530b-7927-425c-a8a5-cf1abc854e96"
      },
      "source": [
        "!wget https://drive.google.com/drive/folders/1iwQjHx23O1HVWJ0rtwos8OVZ3mIeCe8r?usp=sharing"
      ],
      "execution_count": null,
      "outputs": [
        {
          "output_type": "stream",
          "text": [
            "--2021-03-21 11:12:40--  https://drive.google.com/drive/folders/1iwQjHx23O1HVWJ0rtwos8OVZ3mIeCe8r?usp=sharing\n",
            "Resolving drive.google.com (drive.google.com)... 172.217.12.238, 2607:f8b0:4004:807::200e\n",
            "Connecting to drive.google.com (drive.google.com)|172.217.12.238|:443... connected.\n",
            "HTTP request sent, awaiting response... 200 OK\n",
            "Length: unspecified [text/html]\n",
            "Saving to: ‘1iwQjHx23O1HVWJ0rtwos8OVZ3mIeCe8r?usp=sharing’\n",
            "\n",
            "1iwQjHx23O1HVWJ0rtw     [ <=>                ] 293.57K  1.73MB/s    in 0.2s    \n",
            "\n",
            "2021-03-21 11:12:40 (1.73 MB/s) - ‘1iwQjHx23O1HVWJ0rtwos8OVZ3mIeCe8r?usp=sharing’ saved [300618]\n",
            "\n"
          ],
          "name": "stdout"
        }
      ]
    },
    {
      "cell_type": "code",
      "metadata": {
        "colab": {
          "base_uri": "https://localhost:8080/"
        },
        "id": "s39yrRzHkZqN",
        "outputId": "c21a705e-6977-47b0-a42e-fc6e5e44d1b4"
      },
      "source": [
        "!python3 test_FaceDict.py --test_path ./TestData/TestWhole --results_dir ./Results/TestWholeResults --upscale_factor 4 --gpu_ids 0 "
      ],
      "execution_count": null,
      "outputs": [
        {
          "output_type": "stream",
          "text": [
            "\n",
            "###################### Now Running the X 4 task ##############################\n",
            "\n",
            "###############################################################################\n",
            "####################### Step 1: Crop and Align Face ###########################\n",
            "###############################################################################\n",
            "\n",
            "Crop and Align test1.jpg image\n",
            "Crop and Align test2.jpg image\n",
            "Crop and Align test3.jpg image\n",
            "Crop and Align test4.jpg image\n",
            "Crop and Align test5.jpg image\n",
            "Crop and Align test6.png image\n",
            "\n",
            "###############################################################################\n",
            "####################### Step 2: Face Landmark Detection #######################\n",
            "###############################################################################\n",
            "\n",
            "Detecting test1.jpg\n",
            "Detecting test2.jpg\n",
            "Detecting test3.jpg\n",
            "Detecting test4.jpg\n",
            "Detecting test5.jpg\n",
            "Detecting test6.png\n",
            "\n",
            "###############################################################################\n",
            "####################### Step 3: Face Restoration ##############################\n",
            "###############################################################################\n",
            "\n",
            "Restoring test1.jpg\n",
            "Restoring test2.jpg\n",
            "Restoring test3.jpg\n",
            "Restoring test4.jpg\n",
            "Restoring test5.jpg\n",
            "Restoring test6.png\n",
            "\n",
            "###############################################################################\n",
            "############### Step 4: Paste the Restored Face to the Input Image ############\n",
            "###############################################################################\n",
            "\n",
            "Final Restoring test1.jpg\n",
            "Final Restoring test2.jpg\n",
            "Final Restoring test3.jpg\n",
            "Final Restoring test4.jpg\n",
            "Final Restoring test5.jpg\n",
            "Final Restoring test6.png\n",
            "\n",
            "All results are saved in ./Results/TestWholeResults \n",
            "\n"
          ],
          "name": "stdout"
        }
      ]
    },
    {
      "cell_type": "markdown",
      "metadata": {
        "id": "TPbodzs4Zef-"
      },
      "source": [
        ""
      ]
    }
  ]
}