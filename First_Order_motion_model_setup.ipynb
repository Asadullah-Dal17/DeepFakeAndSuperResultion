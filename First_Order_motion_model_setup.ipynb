{
  "nbformat": 4,
  "nbformat_minor": 0,
  "metadata": {
    "colab": {
      "name": "First_Order_motion_model_setup.ipynb",
      "provenance": [],
      "collapsed_sections": [
        "cdO_RxQZLahB"
      ],
      "toc_visible": true,
      "include_colab_link": true
    },
    "kernelspec": {
      "name": "python3",
      "display_name": "Python 3"
    },
    "accelerator": "GPU"
  },
  "cells": [
    {
      "cell_type": "markdown",
      "metadata": {
        "id": "view-in-github",
        "colab_type": "text"
      },
      "source": [
        "<a href=\"https://colab.research.google.com/github/Asadullah-Dal17/DeepFakeAndSuperResultion/blob/master/First_Order_motion_model_setup.ipynb\" target=\"_parent\"><img src=\"https://colab.research.google.com/assets/colab-badge.svg\" alt=\"Open In Colab\"/></a>"
      ]
    },
    {
      "cell_type": "markdown",
      "metadata": {
        "id": "ZRoD-lQn3gRi"
      },
      "source": [
        "Author          : **Asadullah Dal**\n",
        "\n",
        "Youtube Channel : [AiPhile](https://www.youtube.com/c/aiphile)\n",
        "\n",
        "*If you found this helpful then, join me on YouTube, where, I create content like that, on computer Vision and AI help me to grow My Channel so that I keep motivated.*\n",
        "\n",
        "Thank you so much\n"
      ]
    },
    {
      "cell_type": "markdown",
      "metadata": {
        "id": "cdO_RxQZLahB"
      },
      "source": [
        "# Demo for paper \"First Order Motion Model for Image Animation\""
      ]
    },
    {
      "cell_type": "markdown",
      "metadata": {
        "id": "GCDNKsEGLtR6"
      },
      "source": [
        "**Mounting Google drive on colab**"
      ]
    },
    {
      "cell_type": "code",
      "metadata": {
        "id": "i8QvhkcjL5ny",
        "colab": {
          "base_uri": "https://localhost:8080/"
        },
        "outputId": "813c3eb9-bc17-4fd9-d34e-fac53f35006e"
      },
      "source": [
        "from google.colab import drive\n",
        "drive.mount('/content/gdrive')"
      ],
      "execution_count": 11,
      "outputs": [
        {
          "output_type": "stream",
          "text": [
            "Mounted at /content/gdrive\n"
          ],
          "name": "stdout"
        }
      ]
    },
    {
      "cell_type": "markdown",
      "metadata": {
        "id": "3qSCsucBMESk"
      },
      "source": [
        "Move to the your **Google drive**"
      ]
    },
    {
      "cell_type": "markdown",
      "metadata": {
        "id": "RRCkwrZxD-kR"
      },
      "source": [
        "clone this **repo**"
      ]
    },
    {
      "cell_type": "code",
      "metadata": {
        "id": "UCMFMJV7K-ag",
        "colab": {
          "base_uri": "https://localhost:8080/"
        },
        "outputId": "ccf002d7-bbcf-430e-b5f5-2dd0602dd05d"
      },
      "source": [
        "!git clone https://github.com/AliaksandrSiarohin/first-order-model"
      ],
      "execution_count": null,
      "outputs": [
        {
          "output_type": "stream",
          "text": [
            "Cloning into 'first-order-model'...\n",
            "remote: Enumerating objects: 262, done.\u001b[K\n",
            "remote: Counting objects: 100% (9/9), done.\u001b[K\n",
            "remote: Compressing objects: 100% (8/8), done.\u001b[K\n",
            "remote: Total 262 (delta 3), reused 5 (delta 1), pack-reused 253\u001b[K\n",
            "Receiving objects: 100% (262/262), 72.13 MiB | 20.20 MiB/s, done.\n",
            "Resolving deltas: 100% (130/130), done.\n",
            "Checking out files: 100% (46/46), done.\n"
          ],
          "name": "stdout"
        }
      ]
    },
    {
      "cell_type": "markdown",
      "metadata": {
        "id": "0SSJEPx3ELVI"
      },
      "source": [
        "move the First order model dir\n"
      ]
    },
    {
      "cell_type": "code",
      "metadata": {
        "id": "PBp6l_4bBYUL",
        "colab": {
          "base_uri": "https://localhost:8080/"
        },
        "outputId": "0cfee780-1e5d-46f7-f5ce-09fad498a91e"
      },
      "source": [
        "cd first-order-model"
      ],
      "execution_count": 25,
      "outputs": [
        {
          "output_type": "stream",
          "text": [
            "/content/gdrive/MyDrive/deepfake/first-order-model\n"
          ],
          "name": "stdout"
        }
      ]
    },
    {
      "cell_type": "code",
      "metadata": {
        "id": "zI4Y4ph4EkB6",
        "colab": {
          "base_uri": "https://localhost:8080/"
        },
        "outputId": "23c79044-3b15-4ad6-ce08-e3412e93d1a2"
      },
      "source": [
        "ls"
      ],
      "execution_count": 15,
      "outputs": [
        {
          "output_type": "stream",
          "text": [
            "\u001b[0m\u001b[01;34mbin\u001b[0m/      \u001b[01;34mdatalab\u001b[0m/  \u001b[01;34mhome\u001b[0m/   \u001b[01;34mlib64\u001b[0m/  \u001b[01;34mopt\u001b[0m/   \u001b[01;34mrun\u001b[0m/   \u001b[01;34msys\u001b[0m/                \u001b[01;34mtools\u001b[0m/\n",
            "\u001b[01;34mboot\u001b[0m/     \u001b[01;34mdev\u001b[0m/      \u001b[01;34mlib\u001b[0m/    \u001b[01;34mmedia\u001b[0m/  \u001b[01;34mproc\u001b[0m/  \u001b[01;34msbin\u001b[0m/  \u001b[01;34mtensorflow-1.15.2\u001b[0m/  \u001b[01;34musr\u001b[0m/\n",
            "\u001b[01;34mcontent\u001b[0m/  \u001b[01;34metc\u001b[0m/      \u001b[01;34mlib32\u001b[0m/  \u001b[01;34mmnt\u001b[0m/    \u001b[01;34mroot\u001b[0m/  \u001b[01;34msrv\u001b[0m/   \u001b[30;42mtmp\u001b[0m/                \u001b[01;34mvar\u001b[0m/\n"
          ],
          "name": "stdout"
        }
      ]
    },
    {
      "cell_type": "markdown",
      "metadata": {
        "id": "6pGKn8lnfgaU"
      },
      "source": [
        "clone this **face-alignment** **repository**"
      ]
    },
    {
      "cell_type": "code",
      "metadata": {
        "id": "ah2cM8ngEp41",
        "colab": {
          "base_uri": "https://localhost:8080/"
        },
        "outputId": "ab84d896-e2e5-431e-c539-a09226511c59"
      },
      "source": [
        "!git clone https://github.com/1adrianb/face-alignment"
      ],
      "execution_count": null,
      "outputs": [
        {
          "output_type": "stream",
          "text": [
            "Cloning into 'face-alignment'...\n",
            "remote: Enumerating objects: 1023, done.\u001b[K\n",
            "remote: Counting objects: 100% (54/54), done.\u001b[K\n",
            "remote: Compressing objects: 100% (41/41), done.\u001b[K\n",
            "remote: Total 1023 (delta 22), reused 30 (delta 12), pack-reused 969\u001b[K\n",
            "Receiving objects: 100% (1023/1023), 5.26 MiB | 16.37 MiB/s, done.\n",
            "Resolving deltas: 100% (623/623), done.\n"
          ],
          "name": "stdout"
        }
      ]
    },
    {
      "cell_type": "code",
      "metadata": {
        "id": "Gg2-n5PrNC4i",
        "colab": {
          "base_uri": "https://localhost:8080/",
          "height": 51
        },
        "outputId": "bdd941a1-ee05-4c68-c52a-4839ec8292f7"
      },
      "source": [
        "ls"
      ],
      "execution_count": null,
      "outputs": [
        {
          "output_type": "stream",
          "text": [
            "\u001b[0m\u001b[01;34mconda\u001b[0m/      \u001b[01;34mdocs\u001b[0m/      \u001b[01;34mface_alignment\u001b[0m/  README.md         setup.cfg  \u001b[01;34mtest\u001b[0m/\n",
            "Dockerfile  \u001b[01;34mexamples\u001b[0m/  LICENSE          requirements.txt  setup.py   tox.ini\n"
          ],
          "name": "stdout"
        }
      ]
    },
    {
      "cell_type": "code",
      "metadata": {
        "id": "vCfIG_pCEwKo",
        "colab": {
          "base_uri": "https://localhost:8080/"
        },
        "outputId": "ffcd9ae3-ca55-4436-e1f9-fe668224b138"
      },
      "source": [
        "cd face-alignment/"
      ],
      "execution_count": 26,
      "outputs": [
        {
          "output_type": "stream",
          "text": [
            "/content/gdrive/MyDrive/deepfake/first-order-model/face-alignment\n"
          ],
          "name": "stdout"
        }
      ]
    },
    {
      "cell_type": "markdown",
      "metadata": {
        "id": "kOK908ACfvWj"
      },
      "source": [
        "Install the face-alignment requirements"
      ]
    },
    {
      "cell_type": "code",
      "metadata": {
        "id": "F4Fx8611E3bv",
        "colab": {
          "base_uri": "https://localhost:8080/"
        },
        "outputId": "8bafe7ff-0eb6-45b0-954c-61306d4542a3"
      },
      "source": [
        "!pip install -r requirements.txt"
      ],
      "execution_count": 27,
      "outputs": [
        {
          "output_type": "stream",
          "text": [
            "Requirement already satisfied: opencv-python in /usr/local/lib/python3.7/dist-packages (from -r requirements.txt (line 1)) (4.1.2.30)\n",
            "Requirement already satisfied: scipy>=0.17.0 in /usr/local/lib/python3.7/dist-packages (from -r requirements.txt (line 2)) (1.4.1)\n",
            "Requirement already satisfied: scikit-image in /usr/local/lib/python3.7/dist-packages (from -r requirements.txt (line 3)) (0.16.2)\n",
            "Requirement already satisfied: numba in /usr/local/lib/python3.7/dist-packages (from -r requirements.txt (line 4)) (0.51.2)\n",
            "Requirement already satisfied: numpy>=1.14.5 in /usr/local/lib/python3.7/dist-packages (from opencv-python->-r requirements.txt (line 1)) (1.19.5)\n",
            "Requirement already satisfied: imageio>=2.3.0 in /usr/local/lib/python3.7/dist-packages (from scikit-image->-r requirements.txt (line 3)) (2.4.1)\n",
            "Requirement already satisfied: PyWavelets>=0.4.0 in /usr/local/lib/python3.7/dist-packages (from scikit-image->-r requirements.txt (line 3)) (1.1.1)\n",
            "Requirement already satisfied: matplotlib!=3.0.0,>=2.0.0 in /usr/local/lib/python3.7/dist-packages (from scikit-image->-r requirements.txt (line 3)) (3.2.2)\n",
            "Requirement already satisfied: pillow>=4.3.0 in /usr/local/lib/python3.7/dist-packages (from scikit-image->-r requirements.txt (line 3)) (7.1.2)\n",
            "Requirement already satisfied: networkx>=2.0 in /usr/local/lib/python3.7/dist-packages (from scikit-image->-r requirements.txt (line 3)) (2.5.1)\n",
            "Requirement already satisfied: setuptools in /usr/local/lib/python3.7/dist-packages (from numba->-r requirements.txt (line 4)) (56.1.0)\n",
            "Requirement already satisfied: llvmlite<0.35,>=0.34.0.dev0 in /usr/local/lib/python3.7/dist-packages (from numba->-r requirements.txt (line 4)) (0.34.0)\n",
            "Requirement already satisfied: cycler>=0.10 in /usr/local/lib/python3.7/dist-packages (from matplotlib!=3.0.0,>=2.0.0->scikit-image->-r requirements.txt (line 3)) (0.10.0)\n",
            "Requirement already satisfied: kiwisolver>=1.0.1 in /usr/local/lib/python3.7/dist-packages (from matplotlib!=3.0.0,>=2.0.0->scikit-image->-r requirements.txt (line 3)) (1.3.1)\n",
            "Requirement already satisfied: python-dateutil>=2.1 in /usr/local/lib/python3.7/dist-packages (from matplotlib!=3.0.0,>=2.0.0->scikit-image->-r requirements.txt (line 3)) (2.8.1)\n",
            "Requirement already satisfied: pyparsing!=2.0.4,!=2.1.2,!=2.1.6,>=2.0.1 in /usr/local/lib/python3.7/dist-packages (from matplotlib!=3.0.0,>=2.0.0->scikit-image->-r requirements.txt (line 3)) (2.4.7)\n",
            "Requirement already satisfied: decorator<5,>=4.3 in /usr/local/lib/python3.7/dist-packages (from networkx>=2.0->scikit-image->-r requirements.txt (line 3)) (4.4.2)\n",
            "Requirement already satisfied: six in /usr/local/lib/python3.7/dist-packages (from cycler>=0.10->matplotlib!=3.0.0,>=2.0.0->scikit-image->-r requirements.txt (line 3)) (1.15.0)\n"
          ],
          "name": "stdout"
        }
      ]
    },
    {
      "cell_type": "markdown",
      "metadata": {
        "id": "zLyvghwvf3te"
      },
      "source": [
        "Install **Face-Alignment** module"
      ]
    },
    {
      "cell_type": "code",
      "metadata": {
        "id": "lwGJo6AaFCJm",
        "colab": {
          "base_uri": "https://localhost:8080/"
        },
        "outputId": "139c1131-e7e9-40fe-e148-a07ebb1c72a3"
      },
      "source": [
        "!python setup.py install"
      ],
      "execution_count": 28,
      "outputs": [
        {
          "output_type": "stream",
          "text": [
            "/usr/local/lib/python3.7/dist-packages/setuptools/dist.py:672: UserWarning: Usage of dash-separated 'description-file' will not be supported in future versions. Please use the underscore name 'description_file' instead\n",
            "  % (opt, underscore_opt))\n",
            "running install\n",
            "running bdist_egg\n",
            "running egg_info\n",
            "writing face_alignment.egg-info/PKG-INFO\n",
            "writing dependency_links to face_alignment.egg-info/dependency_links.txt\n",
            "writing requirements to face_alignment.egg-info/requires.txt\n",
            "writing top-level names to face_alignment.egg-info/top_level.txt\n",
            "adding license file 'LICENSE' (matched pattern 'LICEN[CS]E*')\n",
            "writing manifest file 'face_alignment.egg-info/SOURCES.txt'\n",
            "installing library code to build/bdist.linux-x86_64/egg\n",
            "running install_lib\n",
            "running build_py\n",
            "creating build/bdist.linux-x86_64/egg\n",
            "creating build/bdist.linux-x86_64/egg/face_alignment\n",
            "copying build/lib/face_alignment/api.py -> build/bdist.linux-x86_64/egg/face_alignment\n",
            "copying build/lib/face_alignment/utils.py -> build/bdist.linux-x86_64/egg/face_alignment\n",
            "copying build/lib/face_alignment/__init__.py -> build/bdist.linux-x86_64/egg/face_alignment\n",
            "creating build/bdist.linux-x86_64/egg/face_alignment/detection\n",
            "copying build/lib/face_alignment/detection/__init__.py -> build/bdist.linux-x86_64/egg/face_alignment/detection\n",
            "copying build/lib/face_alignment/detection/core.py -> build/bdist.linux-x86_64/egg/face_alignment/detection\n",
            "creating build/bdist.linux-x86_64/egg/face_alignment/detection/blazeface\n",
            "copying build/lib/face_alignment/detection/blazeface/__init__.py -> build/bdist.linux-x86_64/egg/face_alignment/detection/blazeface\n",
            "copying build/lib/face_alignment/detection/blazeface/blazeface_detector.py -> build/bdist.linux-x86_64/egg/face_alignment/detection/blazeface\n",
            "copying build/lib/face_alignment/detection/blazeface/net_blazeface.py -> build/bdist.linux-x86_64/egg/face_alignment/detection/blazeface\n",
            "copying build/lib/face_alignment/detection/blazeface/detect.py -> build/bdist.linux-x86_64/egg/face_alignment/detection/blazeface\n",
            "copying build/lib/face_alignment/detection/blazeface/utils.py -> build/bdist.linux-x86_64/egg/face_alignment/detection/blazeface\n",
            "creating build/bdist.linux-x86_64/egg/face_alignment/detection/dlib\n",
            "copying build/lib/face_alignment/detection/dlib/__init__.py -> build/bdist.linux-x86_64/egg/face_alignment/detection/dlib\n",
            "copying build/lib/face_alignment/detection/dlib/dlib_detector.py -> build/bdist.linux-x86_64/egg/face_alignment/detection/dlib\n",
            "creating build/bdist.linux-x86_64/egg/face_alignment/detection/folder\n",
            "copying build/lib/face_alignment/detection/folder/folder_detector.py -> build/bdist.linux-x86_64/egg/face_alignment/detection/folder\n",
            "copying build/lib/face_alignment/detection/folder/__init__.py -> build/bdist.linux-x86_64/egg/face_alignment/detection/folder\n",
            "creating build/bdist.linux-x86_64/egg/face_alignment/detection/sfd\n",
            "copying build/lib/face_alignment/detection/sfd/bbox.py -> build/bdist.linux-x86_64/egg/face_alignment/detection/sfd\n",
            "copying build/lib/face_alignment/detection/sfd/net_s3fd.py -> build/bdist.linux-x86_64/egg/face_alignment/detection/sfd\n",
            "copying build/lib/face_alignment/detection/sfd/__init__.py -> build/bdist.linux-x86_64/egg/face_alignment/detection/sfd\n",
            "copying build/lib/face_alignment/detection/sfd/sfd_detector.py -> build/bdist.linux-x86_64/egg/face_alignment/detection/sfd\n",
            "copying build/lib/face_alignment/detection/sfd/detect.py -> build/bdist.linux-x86_64/egg/face_alignment/detection/sfd\n",
            "byte-compiling build/bdist.linux-x86_64/egg/face_alignment/api.py to api.cpython-37.pyc\n",
            "byte-compiling build/bdist.linux-x86_64/egg/face_alignment/utils.py to utils.cpython-37.pyc\n",
            "byte-compiling build/bdist.linux-x86_64/egg/face_alignment/__init__.py to __init__.cpython-37.pyc\n",
            "byte-compiling build/bdist.linux-x86_64/egg/face_alignment/detection/__init__.py to __init__.cpython-37.pyc\n",
            "byte-compiling build/bdist.linux-x86_64/egg/face_alignment/detection/core.py to core.cpython-37.pyc\n",
            "byte-compiling build/bdist.linux-x86_64/egg/face_alignment/detection/blazeface/__init__.py to __init__.cpython-37.pyc\n",
            "byte-compiling build/bdist.linux-x86_64/egg/face_alignment/detection/blazeface/blazeface_detector.py to blazeface_detector.cpython-37.pyc\n",
            "byte-compiling build/bdist.linux-x86_64/egg/face_alignment/detection/blazeface/net_blazeface.py to net_blazeface.cpython-37.pyc\n",
            "byte-compiling build/bdist.linux-x86_64/egg/face_alignment/detection/blazeface/detect.py to detect.cpython-37.pyc\n",
            "byte-compiling build/bdist.linux-x86_64/egg/face_alignment/detection/blazeface/utils.py to utils.cpython-37.pyc\n",
            "byte-compiling build/bdist.linux-x86_64/egg/face_alignment/detection/dlib/__init__.py to __init__.cpython-37.pyc\n",
            "byte-compiling build/bdist.linux-x86_64/egg/face_alignment/detection/dlib/dlib_detector.py to dlib_detector.cpython-37.pyc\n",
            "byte-compiling build/bdist.linux-x86_64/egg/face_alignment/detection/folder/folder_detector.py to folder_detector.cpython-37.pyc\n",
            "byte-compiling build/bdist.linux-x86_64/egg/face_alignment/detection/folder/__init__.py to __init__.cpython-37.pyc\n",
            "byte-compiling build/bdist.linux-x86_64/egg/face_alignment/detection/sfd/bbox.py to bbox.cpython-37.pyc\n",
            "byte-compiling build/bdist.linux-x86_64/egg/face_alignment/detection/sfd/net_s3fd.py to net_s3fd.cpython-37.pyc\n",
            "byte-compiling build/bdist.linux-x86_64/egg/face_alignment/detection/sfd/__init__.py to __init__.cpython-37.pyc\n",
            "byte-compiling build/bdist.linux-x86_64/egg/face_alignment/detection/sfd/sfd_detector.py to sfd_detector.cpython-37.pyc\n",
            "byte-compiling build/bdist.linux-x86_64/egg/face_alignment/detection/sfd/detect.py to detect.cpython-37.pyc\n",
            "creating build/bdist.linux-x86_64/egg/EGG-INFO\n",
            "copying face_alignment.egg-info/PKG-INFO -> build/bdist.linux-x86_64/egg/EGG-INFO\n",
            "copying face_alignment.egg-info/SOURCES.txt -> build/bdist.linux-x86_64/egg/EGG-INFO\n",
            "copying face_alignment.egg-info/dependency_links.txt -> build/bdist.linux-x86_64/egg/EGG-INFO\n",
            "copying face_alignment.egg-info/requires.txt -> build/bdist.linux-x86_64/egg/EGG-INFO\n",
            "copying face_alignment.egg-info/top_level.txt -> build/bdist.linux-x86_64/egg/EGG-INFO\n",
            "copying face_alignment.egg-info/zip-safe -> build/bdist.linux-x86_64/egg/EGG-INFO\n",
            "creating 'dist/face_alignment-1.3.4-py3.7.egg' and adding 'build/bdist.linux-x86_64/egg' to it\n",
            "removing 'build/bdist.linux-x86_64/egg' (and everything under it)\n",
            "Processing face_alignment-1.3.4-py3.7.egg\n",
            "Copying face_alignment-1.3.4-py3.7.egg to /usr/local/lib/python3.7/dist-packages\n",
            "Adding face-alignment 1.3.4 to easy-install.pth file\n",
            "\n",
            "Installed /usr/local/lib/python3.7/dist-packages/face_alignment-1.3.4-py3.7.egg\n",
            "Processing dependencies for face-alignment==1.3.4\n",
            "Searching for numba==0.51.2\n",
            "Best match: numba 0.51.2\n",
            "Adding numba 0.51.2 to easy-install.pth file\n",
            "\n",
            "Using /usr/local/lib/python3.7/dist-packages\n",
            "Searching for tqdm==4.41.1\n",
            "Best match: tqdm 4.41.1\n",
            "Adding tqdm 4.41.1 to easy-install.pth file\n",
            "Installing tqdm script to /usr/local/bin\n",
            "\n",
            "Using /usr/local/lib/python3.7/dist-packages\n",
            "Searching for opencv-python==4.1.2.30\n",
            "Best match: opencv-python 4.1.2.30\n",
            "Adding opencv-python 4.1.2.30 to easy-install.pth file\n",
            "\n",
            "Using /usr/local/lib/python3.7/dist-packages\n",
            "Searching for scikit-image==0.16.2\n",
            "Best match: scikit-image 0.16.2\n",
            "Adding scikit-image 0.16.2 to easy-install.pth file\n",
            "Installing skivi script to /usr/local/bin\n",
            "\n",
            "Using /usr/local/lib/python3.7/dist-packages\n",
            "Searching for scipy==1.4.1\n",
            "Best match: scipy 1.4.1\n",
            "Adding scipy 1.4.1 to easy-install.pth file\n",
            "\n",
            "Using /usr/local/lib/python3.7/dist-packages\n",
            "Searching for numpy==1.19.5\n",
            "Best match: numpy 1.19.5\n",
            "Adding numpy 1.19.5 to easy-install.pth file\n",
            "Installing f2py script to /usr/local/bin\n",
            "Installing f2py3 script to /usr/local/bin\n",
            "Installing f2py3.7 script to /usr/local/bin\n",
            "\n",
            "Using /usr/local/lib/python3.7/dist-packages\n",
            "Searching for torch==1.8.1+cu101\n",
            "Best match: torch 1.8.1+cu101\n",
            "Adding torch 1.8.1+cu101 to easy-install.pth file\n",
            "Installing convert-caffe2-to-onnx script to /usr/local/bin\n",
            "Installing convert-onnx-to-caffe2 script to /usr/local/bin\n",
            "\n",
            "Using /usr/local/lib/python3.7/dist-packages\n",
            "Searching for llvmlite==0.34.0\n",
            "Best match: llvmlite 0.34.0\n",
            "Adding llvmlite 0.34.0 to easy-install.pth file\n",
            "\n",
            "Using /usr/local/lib/python3.7/dist-packages\n",
            "Searching for setuptools==56.1.0\n",
            "Best match: setuptools 56.1.0\n",
            "Adding setuptools 56.1.0 to easy-install.pth file\n",
            "\n",
            "Using /usr/local/lib/python3.7/dist-packages\n",
            "Searching for PyWavelets==1.1.1\n",
            "Best match: PyWavelets 1.1.1\n",
            "Adding PyWavelets 1.1.1 to easy-install.pth file\n",
            "\n",
            "Using /usr/local/lib/python3.7/dist-packages\n",
            "Searching for matplotlib==3.2.2\n",
            "Best match: matplotlib 3.2.2\n",
            "Adding matplotlib 3.2.2 to easy-install.pth file\n",
            "\n",
            "Using /usr/local/lib/python3.7/dist-packages\n",
            "Searching for Pillow==7.1.2\n",
            "Best match: Pillow 7.1.2\n",
            "Adding Pillow 7.1.2 to easy-install.pth file\n",
            "\n",
            "Using /usr/local/lib/python3.7/dist-packages\n",
            "Searching for imageio==2.4.1\n",
            "Best match: imageio 2.4.1\n",
            "Adding imageio 2.4.1 to easy-install.pth file\n",
            "Installing imageio_download_bin script to /usr/local/bin\n",
            "Installing imageio_remove_bin script to /usr/local/bin\n",
            "\n",
            "Using /usr/local/lib/python3.7/dist-packages\n",
            "Searching for networkx==2.5.1\n",
            "Best match: networkx 2.5.1\n",
            "Adding networkx 2.5.1 to easy-install.pth file\n",
            "\n",
            "Using /usr/local/lib/python3.7/dist-packages\n",
            "Searching for typing-extensions==3.7.4.3\n",
            "Best match: typing-extensions 3.7.4.3\n",
            "Adding typing-extensions 3.7.4.3 to easy-install.pth file\n",
            "\n",
            "Using /usr/local/lib/python3.7/dist-packages\n",
            "Searching for cycler==0.10.0\n",
            "Best match: cycler 0.10.0\n",
            "Adding cycler 0.10.0 to easy-install.pth file\n",
            "\n",
            "Using /usr/local/lib/python3.7/dist-packages\n",
            "Searching for python-dateutil==2.8.1\n",
            "Best match: python-dateutil 2.8.1\n",
            "Adding python-dateutil 2.8.1 to easy-install.pth file\n",
            "\n",
            "Using /usr/local/lib/python3.7/dist-packages\n",
            "Searching for kiwisolver==1.3.1\n",
            "Best match: kiwisolver 1.3.1\n",
            "Adding kiwisolver 1.3.1 to easy-install.pth file\n",
            "\n",
            "Using /usr/local/lib/python3.7/dist-packages\n",
            "Searching for pyparsing==2.4.7\n",
            "Best match: pyparsing 2.4.7\n",
            "Adding pyparsing 2.4.7 to easy-install.pth file\n",
            "\n",
            "Using /usr/local/lib/python3.7/dist-packages\n",
            "Searching for decorator==4.4.2\n",
            "Best match: decorator 4.4.2\n",
            "Adding decorator 4.4.2 to easy-install.pth file\n",
            "\n",
            "Using /usr/local/lib/python3.7/dist-packages\n",
            "Searching for six==1.15.0\n",
            "Best match: six 1.15.0\n",
            "Adding six 1.15.0 to easy-install.pth file\n",
            "\n",
            "Using /usr/local/lib/python3.7/dist-packages\n",
            "Finished processing dependencies for face-alignment==1.3.4\n"
          ],
          "name": "stdout"
        }
      ]
    },
    {
      "cell_type": "markdown",
      "metadata": {
        "id": "VsgVK1EURXkd"
      },
      "source": [
        "Pre-trained models and croped videos and pictures are on this **link**\n",
        "\n",
        "**Add folder https://drive.google.com/drive/folders/1kZ1gCnpfU0BnpdU47pLM_TQ6RypDDqgw?usp=sharing  to your google drive.**"
      ]
    },
    {
      "cell_type": "code",
      "metadata": {
        "id": "LP_uZnUCOguA",
        "colab": {
          "base_uri": "https://localhost:8080/"
        },
        "outputId": "9c313ddc-2963-48e3-a8f2-31b924715c83"
      },
      "source": [
        "cd .."
      ],
      "execution_count": 30,
      "outputs": [
        {
          "output_type": "stream",
          "text": [
            "/content/gdrive/My Drive/deepfake/first-order-model\n"
          ],
          "name": "stdout"
        }
      ]
    },
    {
      "cell_type": "code",
      "metadata": {
        "id": "BqxMvrTWOpkm",
        "colab": {
          "base_uri": "https://localhost:8080/"
        },
        "outputId": "af97dc31-0f8c-4b05-8f07-32dd159154e8"
      },
      "source": [
        "ls"
      ],
      "execution_count": 31,
      "outputs": [
        {
          "output_type": "stream",
          "text": [
            "animate.py       demo.ipynb         LICENSE.md         requirements.txt\n",
            "augmentation.py  demo.py            logger.py          result.mp4\n",
            "\u001b[0m\u001b[01;34mconfig\u001b[0m/          Dockerfile         \u001b[01;34mmodules\u001b[0m/           run.py\n",
            "crop.mp4         \u001b[01;34mface-alignment\u001b[0m/    \u001b[01;34m__pycache__\u001b[0m/       \u001b[01;34msup-mat\u001b[0m/\n",
            "crop-video.py    \u001b[01;34mFiles\u001b[0m/             README.md          \u001b[01;34msync_batchnorm\u001b[0m/\n",
            "\u001b[01;34mdata\u001b[0m/            frames_dataset.py  reconstruction.py  train.py\n"
          ],
          "name": "stdout"
        }
      ]
    },
    {
      "cell_type": "markdown",
      "metadata": {
        "id": "7MArwWVAgEZ5"
      },
      "source": [
        "Crop the your video if it is not croped already"
      ]
    },
    {
      "cell_type": "code",
      "metadata": {
        "id": "pgeH8_C_Os1L",
        "colab": {
          "base_uri": "https://localhost:8080/"
        },
        "outputId": "e810b5b4-3490-4ac1-b6f5-bf062b80af7a"
      },
      "source": [
        "!python crop-video.py --inp Files/intorVideo.mp4"
      ],
      "execution_count": 32,
      "outputs": [
        {
          "output_type": "stream",
          "text": [
            "Downloading: \"https://www.adrianbulat.com/downloads/python-fan/s3fd-619a316812.pth\" to /root/.cache/torch/hub/checkpoints/s3fd-619a316812.pth\n",
            "100% 85.7M/85.7M [00:00<00:00, 137MB/s]\n",
            "Downloading: \"https://www.adrianbulat.com/downloads/python-fan/2DFAN4-cd938726ad.zip\" to /root/.cache/torch/hub/checkpoints/2DFAN4-cd938726ad.zip\n",
            "100% 91.9M/91.9M [00:00<00:00, 127MB/s]\n",
            "978it [03:24,  4.79it/s]\n",
            "ffmpeg -i Files/intorVideo.mp4 -ss 0.0 -t 32.56666666666667 -filter:v \"crop=416:416:171:267, scale=256:256\" crop.mp4\n"
          ],
          "name": "stdout"
        }
      ]
    },
    {
      "cell_type": "markdown",
      "metadata": {
        "id": "_FGs5nZ2gTdC"
      },
      "source": [
        "croping video will generate a **command** copy paste in ipython notebook shell"
      ]
    },
    {
      "cell_type": "code",
      "metadata": {
        "id": "r6DyJyVKP8ZW",
        "colab": {
          "base_uri": "https://localhost:8080/"
        },
        "outputId": "b9fa75a8-2191-4852-ac4f-e7a1bcbc542a"
      },
      "source": [
        "!ffmpeg -i Files/intorVideo.mp4 -ss 0.0 -t 32.56666666666667 -filter:v \"crop=416:416:171:267, scale=256:256\" crop.mp4"
      ],
      "execution_count": 33,
      "outputs": [
        {
          "output_type": "stream",
          "text": [
            "ffmpeg version 3.4.8-0ubuntu0.2 Copyright (c) 2000-2020 the FFmpeg developers\n",
            "  built with gcc 7 (Ubuntu 7.5.0-3ubuntu1~18.04)\n",
            "  configuration: --prefix=/usr --extra-version=0ubuntu0.2 --toolchain=hardened --libdir=/usr/lib/x86_64-linux-gnu --incdir=/usr/include/x86_64-linux-gnu --enable-gpl --disable-stripping --enable-avresample --enable-avisynth --enable-gnutls --enable-ladspa --enable-libass --enable-libbluray --enable-libbs2b --enable-libcaca --enable-libcdio --enable-libflite --enable-libfontconfig --enable-libfreetype --enable-libfribidi --enable-libgme --enable-libgsm --enable-libmp3lame --enable-libmysofa --enable-libopenjpeg --enable-libopenmpt --enable-libopus --enable-libpulse --enable-librubberband --enable-librsvg --enable-libshine --enable-libsnappy --enable-libsoxr --enable-libspeex --enable-libssh --enable-libtheora --enable-libtwolame --enable-libvorbis --enable-libvpx --enable-libwavpack --enable-libwebp --enable-libx265 --enable-libxml2 --enable-libxvid --enable-libzmq --enable-libzvbi --enable-omx --enable-openal --enable-opengl --enable-sdl2 --enable-libdc1394 --enable-libdrm --enable-libiec61883 --enable-chromaprint --enable-frei0r --enable-libopencv --enable-libx264 --enable-shared\n",
            "  libavutil      55. 78.100 / 55. 78.100\n",
            "  libavcodec     57.107.100 / 57.107.100\n",
            "  libavformat    57. 83.100 / 57. 83.100\n",
            "  libavdevice    57. 10.100 / 57. 10.100\n",
            "  libavfilter     6.107.100 /  6.107.100\n",
            "  libavresample   3.  7.  0 /  3.  7.  0\n",
            "  libswscale      4.  8.100 /  4.  8.100\n",
            "  libswresample   2.  9.100 /  2.  9.100\n",
            "  libpostproc    54.  7.100 / 54.  7.100\n",
            "Input #0, mov,mp4,m4a,3gp,3g2,mj2, from 'Files/intorVideo.mp4':\n",
            "  Metadata:\n",
            "    major_brand     : mp42\n",
            "    minor_version   : 0\n",
            "    compatible_brands: mp41isom\n",
            "    creation_time   : 2021-05-13T08:19:16.000000Z\n",
            "  Duration: 00:00:32.60, start: 0.000000, bitrate: 5266 kb/s\n",
            "    Stream #0:0(und): Video: h264 (Main) (avc1 / 0x31637661), yuv420p, 720x1280 [SAR 1:1 DAR 9:16], 5067 kb/s, 30 fps, 30 tbr, 30k tbn, 60 tbc (default)\n",
            "    Metadata:\n",
            "      creation_time   : 2021-05-13T08:53:17.000000Z\n",
            "      handler_name    : VideoHandler\n",
            "      encoder         : AVC Coding\n",
            "    Stream #0:1(und): Audio: aac (LC) (mp4a / 0x6134706D), 48000 Hz, stereo, fltp, 196 kb/s (default)\n",
            "    Metadata:\n",
            "      creation_time   : 2021-05-13T08:53:17.000000Z\n",
            "      handler_name    : SoundHandler\n",
            "File 'crop.mp4' already exists. Overwrite ? [y/N] y\n",
            "Stream mapping:\n",
            "  Stream #0:0 -> #0:0 (h264 (native) -> h264 (libx264))\n",
            "  Stream #0:1 -> #0:1 (aac (native) -> aac (native))\n",
            "Press [q] to stop, [?] for help\n",
            "\u001b[1;34m[swscaler @ 0x55ece5de8000] \u001b[0m\u001b[0;33mWarning: data is not aligned! This can lead to a speed loss\n",
            "\u001b[0m\u001b[1;36m[libx264 @ 0x55ece51b6800] \u001b[0musing SAR=1/1\n",
            "\u001b[1;36m[libx264 @ 0x55ece51b6800] \u001b[0musing cpu capabilities: MMX2 SSE2Fast SSSE3 SSE4.2 AVX FMA3 BMI2 AVX2\n",
            "\u001b[1;36m[libx264 @ 0x55ece51b6800] \u001b[0mprofile High, level 1.3\n",
            "\u001b[1;36m[libx264 @ 0x55ece51b6800] \u001b[0m264 - core 152 r2854 e9a5903 - H.264/MPEG-4 AVC codec - Copyleft 2003-2017 - http://www.videolan.org/x264.html - options: cabac=1 ref=3 deblock=1:0:0 analyse=0x3:0x113 me=hex subme=7 psy=1 psy_rd=1.00:0.00 mixed_ref=1 me_range=16 chroma_me=1 trellis=1 8x8dct=1 cqm=0 deadzone=21,11 fast_pskip=1 chroma_qp_offset=-2 threads=3 lookahead_threads=1 sliced_threads=0 nr=0 decimate=1 interlaced=0 bluray_compat=0 constrained_intra=0 bframes=3 b_pyramid=2 b_adapt=1 b_bias=0 direct=1 weightb=1 open_gop=0 weightp=2 keyint=250 keyint_min=25 scenecut=40 intra_refresh=0 rc_lookahead=40 rc=crf mbtree=1 crf=23.0 qcomp=0.60 qpmin=0 qpmax=69 qpstep=4 ip_ratio=1.40 aq=1:1.00\n",
            "Output #0, mp4, to 'crop.mp4':\n",
            "  Metadata:\n",
            "    major_brand     : mp42\n",
            "    minor_version   : 0\n",
            "    compatible_brands: mp41isom\n",
            "    encoder         : Lavf57.83.100\n",
            "    Stream #0:0(und): Video: h264 (libx264) (avc1 / 0x31637661), yuv420p(progressive), 256x256 [SAR 1:1 DAR 1:1], q=-1--1, 30 fps, 15360 tbn, 30 tbc (default)\n",
            "    Metadata:\n",
            "      creation_time   : 2021-05-13T08:53:17.000000Z\n",
            "      handler_name    : VideoHandler\n",
            "      encoder         : Lavc57.107.100 libx264\n",
            "    Side data:\n",
            "      cpb: bitrate max/min/avg: 0/0/0 buffer size: 0 vbv_delay: -1\n",
            "    Stream #0:1(und): Audio: aac (LC) (mp4a / 0x6134706D), 48000 Hz, stereo, fltp, 128 kb/s (default)\n",
            "    Metadata:\n",
            "      creation_time   : 2021-05-13T08:53:17.000000Z\n",
            "      handler_name    : SoundHandler\n",
            "      encoder         : Lavc57.107.100 aac\n",
            "frame=  977 fps= 86 q=-1.0 Lsize=    1202kB time=00:00:32.58 bitrate= 302.2kbits/s speed=2.86x    \n",
            "video:650kB audio:515kB subtitle:0kB other streams:0kB global headers:0kB muxing overhead: 3.121886%\n",
            "\u001b[1;36m[libx264 @ 0x55ece51b6800] \u001b[0mframe I:4     Avg QP:21.40  size:  7152\n",
            "\u001b[1;36m[libx264 @ 0x55ece51b6800] \u001b[0mframe P:251   Avg QP:23.83  size:  1723\n",
            "\u001b[1;36m[libx264 @ 0x55ece51b6800] \u001b[0mframe B:722   Avg QP:26.60  size:   283\n",
            "\u001b[1;36m[libx264 @ 0x55ece51b6800] \u001b[0mconsecutive B-frames:  0.9%  1.2%  1.2% 96.6%\n",
            "\u001b[1;36m[libx264 @ 0x55ece51b6800] \u001b[0mmb I  I16..4:  5.9% 62.2% 31.9%\n",
            "\u001b[1;36m[libx264 @ 0x55ece51b6800] \u001b[0mmb P  I16..4:  0.9%  1.9%  0.2%  P16..4: 45.3% 24.8% 14.7%  0.0%  0.0%    skip:12.2%\n",
            "\u001b[1;36m[libx264 @ 0x55ece51b6800] \u001b[0mmb B  I16..4:  0.0%  0.1%  0.0%  B16..8: 40.6%  3.0%  0.5%  direct: 0.9%  skip:54.9%  L0:39.6% L1:54.7% BI: 5.7%\n",
            "\u001b[1;36m[libx264 @ 0x55ece51b6800] \u001b[0m8x8 transform intra:63.2% inter:74.5%\n",
            "\u001b[1;36m[libx264 @ 0x55ece51b6800] \u001b[0mcoded y,uvDC,uvAC intra: 59.0% 72.9% 24.8% inter: 13.1% 15.7% 1.7%\n",
            "\u001b[1;36m[libx264 @ 0x55ece51b6800] \u001b[0mi16 v,h,dc,p: 24% 18% 15% 43%\n",
            "\u001b[1;36m[libx264 @ 0x55ece51b6800] \u001b[0mi8 v,h,dc,ddl,ddr,vr,hd,vl,hu: 14% 17% 27%  7%  6%  6%  7%  7% 10%\n",
            "\u001b[1;36m[libx264 @ 0x55ece51b6800] \u001b[0mi4 v,h,dc,ddl,ddr,vr,hd,vl,hu: 16% 20% 11%  7% 10% 10% 10%  6%  9%\n",
            "\u001b[1;36m[libx264 @ 0x55ece51b6800] \u001b[0mi8c dc,h,v,p: 58% 17% 18%  7%\n",
            "\u001b[1;36m[libx264 @ 0x55ece51b6800] \u001b[0mWeighted P-Frames: Y:28.7% UV:10.4%\n",
            "\u001b[1;36m[libx264 @ 0x55ece51b6800] \u001b[0mref P L0: 57.4% 18.8% 15.2%  6.9%  1.8%\n",
            "\u001b[1;36m[libx264 @ 0x55ece51b6800] \u001b[0mref B L0: 88.1%  9.2%  2.8%\n",
            "\u001b[1;36m[libx264 @ 0x55ece51b6800] \u001b[0mref B L1: 95.4%  4.6%\n",
            "\u001b[1;36m[libx264 @ 0x55ece51b6800] \u001b[0mkb/s:163.46\n",
            "\u001b[1;36m[aac @ 0x55ece51b7700] \u001b[0mQavg: 727.105\n"
          ],
          "name": "stdout"
        }
      ]
    },
    {
      "cell_type": "code",
      "metadata": {
        "id": "fbFc1Hq6-nfc",
        "colab": {
          "base_uri": "https://localhost:8080/",
          "height": 357
        },
        "outputId": "62f1ccea-6a27-4743-c42a-9362c350136a"
      },
      "source": [
        "!nvidia-smi"
      ],
      "execution_count": null,
      "outputs": [
        {
          "output_type": "stream",
          "text": [
            "Tue Jun 23 21:00:01 2020       \n",
            "+-----------------------------------------------------------------------------+\n",
            "| NVIDIA-SMI 450.36.06    Driver Version: 418.67       CUDA Version: 10.1     |\n",
            "|-------------------------------+----------------------+----------------------+\n",
            "| GPU  Name        Persistence-M| Bus-Id        Disp.A | Volatile Uncorr. ECC |\n",
            "| Fan  Temp  Perf  Pwr:Usage/Cap|         Memory-Usage | GPU-Util  Compute M. |\n",
            "|                               |                      |               MIG M. |\n",
            "|===============================+======================+======================|\n",
            "|   0  Tesla T4            Off  | 00000000:00:04.0 Off |                    0 |\n",
            "| N/A   48C    P8    12W /  70W |      0MiB / 15079MiB |      0%      Default |\n",
            "|                               |                      |                 ERR! |\n",
            "+-------------------------------+----------------------+----------------------+\n",
            "                                                                               \n",
            "+-----------------------------------------------------------------------------+\n",
            "| Processes:                                                                  |\n",
            "|  GPU   GI   CI        PID   Type   Process name                  GPU Memory |\n",
            "|        ID   ID                                                   Usage      |\n",
            "|=============================================================================|\n",
            "|  No running processes found                                                 |\n",
            "+-----------------------------------------------------------------------------+\n"
          ],
          "name": "stdout"
        }
      ]
    },
    {
      "cell_type": "code",
      "metadata": {
        "id": "2i3pW2oBijhd",
        "colab": {
          "base_uri": "https://localhost:8080/",
          "height": 34
        },
        "outputId": "a5c4313d-ba9e-4f34-a4c2-6bb79b0f9491"
      },
      "source": [
        "cd .."
      ],
      "execution_count": null,
      "outputs": [
        {
          "output_type": "stream",
          "text": [
            "/content/gdrive/My Drive/deepfake/first-order-model\n"
          ],
          "name": "stdout"
        }
      ]
    },
    {
      "cell_type": "markdown",
      "metadata": {
        "id": "oKIY1BbRLCfp"
      },
      "source": [
        "Run following command to create **deep fake**\n",
        "\n",
        "\n",
        "\n",
        "## Follow the following instrction in order get best results\n",
        "\n",
        "1.   your source image must be 256x256 size\n",
        "2.   If your using your own video than you must crop your video using face-alignment module mentioned above, the size of that video will be 256x256 by default\n",
        "3.   Align the your image with driving video first frame, you can using any video editor to do this, otherwise your resultant video would be massy and all over the place..\n",
        "New section\n",
        "\n",
        "\n",
        "\n"
      ]
    },
    {
      "cell_type": "code",
      "metadata": {
        "id": "VRHkE6MZQPO-",
        "colab": {
          "base_uri": "https://localhost:8080/"
        },
        "outputId": "eac19117-ee92-450f-c105-91e70ab3d2ff"
      },
      "source": [
        "!python demo.py  --config config/vox-adv-256.yaml --driving_video crop.mp4 --source_image Files/qauid.png --checkpoint Files/vox-adv-cpk.pth.tar --relative --adapt_scale"
      ],
      "execution_count": 34,
      "outputs": [
        {
          "output_type": "stream",
          "text": [
            "/usr/local/lib/python3.7/dist-packages/imageio/core/format.py:411: UserWarning: Could not read last frame of /content/gdrive/My Drive/deepfake/first-order-model/crop.mp4.\n",
            "  warn(\"Could not read last frame of %s.\" % uri)\n",
            "tcmalloc: large alloc 1536688128 bytes == 0x55bbb05ac000 @  0x7f785f06c1e7 0x7f785baf846e 0x7f785bb48c7b 0x7f785bb4be83 0x7f785bb4c07b 0x7f785bbed761 0x55bafa2bbcc0 0x55bafa2bba50 0x55bafa32fbe0 0x55bafa32a4ae 0x55bafa2bd3ea 0x55bafa32c32a 0x55bafa32a4ae 0x55bafa32a1b3 0x55bafa3f4182 0x55bafa3f44fd 0x55bafa3f43a6 0x55bafa3cb723 0x55bafa3cb3cc 0x7f785de56bf7 0x55bafa3cb2aa\n",
            "  0% 0/977 [00:00<?, ?it/s]/usr/local/lib/python3.7/dist-packages/torch/nn/functional.py:3829: UserWarning: Default grid_sample and affine_grid behavior has changed to align_corners=False since 1.3.0. Please specify align_corners=True if the old behavior is desired. See the documentation of grid_sample for details.\n",
            "  \"Default grid_sample and affine_grid behavior has changed \"\n",
            "/usr/local/lib/python3.7/dist-packages/torch/nn/functional.py:3458: UserWarning: Default upsampling behavior when mode=bilinear is changed to align_corners=False since 0.4.0. Please specify align_corners=True if the old behavior is desired. See the documentation of nn.Upsample for details.\n",
            "  \"See the documentation of nn.Upsample for details.\".format(mode)\n",
            "/usr/local/lib/python3.7/dist-packages/torch/nn/functional.py:1709: UserWarning: nn.functional.sigmoid is deprecated. Use torch.sigmoid instead.\n",
            "  warnings.warn(\"nn.functional.sigmoid is deprecated. Use torch.sigmoid instead.\")\n",
            "100% 977/977 [01:58<00:00,  8.25it/s]\n"
          ],
          "name": "stdout"
        }
      ]
    },
    {
      "cell_type": "markdown",
      "metadata": {
        "id": "oZq2Ltkb3bGg"
      },
      "source": [
        ""
      ]
    },
    {
      "cell_type": "markdown",
      "metadata": {
        "id": "aL9xk37mjhxB"
      },
      "source": [
        "check out you will have the **result.mp4** in first order model directory "
      ]
    },
    {
      "cell_type": "code",
      "metadata": {
        "id": "UxspGTnfjgZN",
        "colab": {
          "base_uri": "https://localhost:8080/"
        },
        "outputId": "00f0df10-fa7c-4067-a594-34f4c6ed31f4"
      },
      "source": [
        "ls\n"
      ],
      "execution_count": 35,
      "outputs": [
        {
          "output_type": "stream",
          "text": [
            "animate.py       demo.ipynb         LICENSE.md         requirements.txt\n",
            "augmentation.py  demo.py            logger.py          result.mp4\n",
            "\u001b[0m\u001b[01;34mconfig\u001b[0m/          Dockerfile         \u001b[01;34mmodules\u001b[0m/           run.py\n",
            "crop.mp4         \u001b[01;34mface-alignment\u001b[0m/    \u001b[01;34m__pycache__\u001b[0m/       \u001b[01;34msup-mat\u001b[0m/\n",
            "crop-video.py    \u001b[01;34mFiles\u001b[0m/             README.md          \u001b[01;34msync_batchnorm\u001b[0m/\n",
            "\u001b[01;34mdata\u001b[0m/            frames_dataset.py  reconstruction.py  train.py\n"
          ],
          "name": "stdout"
        }
      ]
    }
  ]
}