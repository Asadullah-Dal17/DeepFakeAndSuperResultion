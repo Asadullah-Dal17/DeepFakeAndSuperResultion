{
  "nbformat": 4,
  "nbformat_minor": 0,
  "metadata": {
    "accelerator": "GPU",
    "colab": {
      "name": "First_Order_motion_model_setup.ipynb",
      "provenance": [],
      "collapsed_sections": [],
      "toc_visible": true,
      "include_colab_link": true
    },
    "kernelspec": {
      "display_name": "Python 3",
      "name": "python3"
    }
  },
  "cells": [
    {
      "cell_type": "markdown",
      "metadata": {
        "id": "view-in-github",
        "colab_type": "text"
      },
      "source": [
        "<a href=\"https://colab.research.google.com/github/Asadullah-Dal17/DeepFakeAndSuperResultion/blob/master/First_Order_motion_model_setup.ipynb\" target=\"_parent\"><img src=\"https://colab.research.google.com/assets/colab-badge.svg\" alt=\"Open In Colab\"/></a>"
      ]
    },
    {
      "cell_type": "markdown",
      "metadata": {
        "id": "ZRoD-lQn3gRi"
      },
      "source": [
        "Author          : **Asadullah Dal**\n",
        "\n",
        "Youtube Channel : [AiPhile](https://www.youtube.com/c/aiphile)\n",
        "\n",
        "*If you found this helpful then, join me on YouTube, where, I create content like that, on computer Vision and AI help me to grow My Channel so that I keep motivated.*\n",
        "\n",
        "Thank you so much\n"
      ]
    },
    {
      "cell_type": "markdown",
      "metadata": {
        "id": "cdO_RxQZLahB"
      },
      "source": [
        "# Demo for paper \"First Order Motion Model for Image Animation\""
      ]
    },
    {
      "cell_type": "markdown",
      "metadata": {
        "id": "GCDNKsEGLtR6"
      },
      "source": [
        "**Mounting Google drive on colab**"
      ]
    },
    {
      "cell_type": "code",
      "metadata": {
        "id": "i8QvhkcjL5ny"
      },
      "source": [
        "from google.colab import drive\n",
        "drive.mount('/content/drive')"
      ],
      "execution_count": null,
      "outputs": []
    },
    {
      "cell_type": "markdown",
      "metadata": {
        "id": "3qSCsucBMESk"
      },
      "source": [
        "Move to the your **Google drive**"
      ]
    },
    {
      "cell_type": "code",
      "metadata": {
        "id": "hiZFa1vv3a3n"
      },
      "source": [
        "cd drive/MyDrive/"
      ],
      "execution_count": null,
      "outputs": []
    },
    {
      "cell_type": "code",
      "metadata": {
        "id": "Y90kDAK93mHy"
      },
      "source": [
        "ls"
      ],
      "execution_count": null,
      "outputs": []
    },
    {
      "cell_type": "markdown",
      "metadata": {
        "id": "RRCkwrZxD-kR"
      },
      "source": [
        "clone this **repo**"
      ]
    },
    {
      "cell_type": "code",
      "metadata": {
        "id": "UCMFMJV7K-ag"
      },
      "source": [
        "!git clone https://github.com/AliaksandrSiarohin/first-order-model"
      ],
      "execution_count": null,
      "outputs": []
    },
    {
      "cell_type": "markdown",
      "metadata": {
        "id": "0SSJEPx3ELVI"
      },
      "source": [
        "move the First order model dir\n"
      ]
    },
    {
      "cell_type": "code",
      "metadata": {
        "id": "PBp6l_4bBYUL"
      },
      "source": [
        "cd first-order-model"
      ],
      "execution_count": null,
      "outputs": []
    },
    {
      "cell_type": "code",
      "metadata": {
        "id": "zI4Y4ph4EkB6"
      },
      "source": [
        "ls"
      ],
      "execution_count": null,
      "outputs": []
    },
    {
      "cell_type": "markdown",
      "metadata": {
        "id": "6pGKn8lnfgaU"
      },
      "source": [
        "clone this **face-alignment** **repository**"
      ]
    },
    {
      "cell_type": "code",
      "metadata": {
        "id": "ah2cM8ngEp41"
      },
      "source": [
        "!git clone https://github.com/1adrianb/face-alignment"
      ],
      "execution_count": null,
      "outputs": []
    },
    {
      "cell_type": "code",
      "metadata": {
        "id": "Gg2-n5PrNC4i"
      },
      "source": [
        "ls"
      ],
      "execution_count": null,
      "outputs": []
    },
    {
      "cell_type": "code",
      "metadata": {
        "id": "vCfIG_pCEwKo"
      },
      "source": [
        "cd face-alignment/"
      ],
      "execution_count": null,
      "outputs": []
    },
    {
      "cell_type": "markdown",
      "metadata": {
        "id": "kOK908ACfvWj"
      },
      "source": [
        "Install the face-alignment requirements"
      ]
    },
    {
      "cell_type": "code",
      "metadata": {
        "id": "F4Fx8611E3bv"
      },
      "source": [
        "!pip install -r requirements.txt"
      ],
      "execution_count": null,
      "outputs": []
    },
    {
      "cell_type": "markdown",
      "metadata": {
        "id": "zLyvghwvf3te"
      },
      "source": [
        "Install **Face-Alignment** module"
      ]
    },
    {
      "cell_type": "code",
      "metadata": {
        "id": "lwGJo6AaFCJm"
      },
      "source": [
        "!python setup.py install"
      ],
      "execution_count": null,
      "outputs": []
    },
    {
      "cell_type": "markdown",
      "metadata": {
        "id": "VsgVK1EURXkd"
      },
      "source": [
        "Pre-trained models and croped videos and pictures are on this **link**\n",
        "\n",
        "**Add folder https://drive.google.com/drive/folders/1kZ1gCnpfU0BnpdU47pLM_TQ6RypDDqgw?usp=sharing  to your google drive.**"
      ]
    },
    {
      "cell_type": "code",
      "metadata": {
        "id": "LP_uZnUCOguA"
      },
      "source": [
        "cd .."
      ],
      "execution_count": null,
      "outputs": []
    },
    {
      "cell_type": "code",
      "metadata": {
        "id": "BqxMvrTWOpkm"
      },
      "source": [
        "ls"
      ],
      "execution_count": null,
      "outputs": []
    },
    {
      "cell_type": "markdown",
      "metadata": {
        "id": "7MArwWVAgEZ5"
      },
      "source": [
        "Crop the your video if it is not croped already"
      ]
    },
    {
      "cell_type": "code",
      "metadata": {
        "id": "pgeH8_C_Os1L"
      },
      "source": [
        "!python crop-video.py --inp Files/intro.mp4"
      ],
      "execution_count": null,
      "outputs": []
    },
    {
      "cell_type": "markdown",
      "metadata": {
        "id": "_FGs5nZ2gTdC"
      },
      "source": [
        "croping video will generate a **command** copy paste in ipython notebook shell"
      ]
    },
    {
      "cell_type": "code",
      "metadata": {
        "id": "r6DyJyVKP8ZW"
      },
      "source": [
        "!ffmpeg -i Files/intro.mp4 -ss 0.0 -t 32.56666666666667 -filter:v \"crop=416:416:171:267, scale=256:256\" crop.mp4"
      ],
      "execution_count": null,
      "outputs": []
    },
    {
      "cell_type": "code",
      "metadata": {
        "id": "fbFc1Hq6-nfc"
      },
      "source": [
        "!nvidia-smi"
      ],
      "execution_count": null,
      "outputs": []
    },
    {
      "cell_type": "code",
      "metadata": {
        "id": "2i3pW2oBijhd"
      },
      "source": [
        "cd .."
      ],
      "execution_count": null,
      "outputs": []
    },
    {
      "cell_type": "markdown",
      "metadata": {
        "id": "oKIY1BbRLCfp"
      },
      "source": [
        "Run following command to create **deep fake**\n",
        "\n",
        "\n",
        "\n",
        "## Follow the following instrction in order get best results\n",
        "\n",
        "1.   your source image must be 256x256 size\n",
        "2.   If your using your own video than you must crop your video using face-alignment module mentioned above, the size of that video will be 256x256 by default\n",
        "3.   Align the your image with driving video first frame, you can using any video editor to do this, otherwise your resultant video would be massy and all over the place..\n",
        "New section\n",
        "\n",
        "\n",
        "\n"
      ]
    },
    {
      "cell_type": "code",
      "metadata": {
        "colab": {
          "background_save": true
        },
        "id": "VRHkE6MZQPO-"
      },
      "source": [
        "!python demo.py  --config config/vox-adv-256.yaml --driving_video crop.mp4 --source_image Files/girlCopy.jpg --checkpoint Files/vox-adv-cpk.pth.tar --relative --adapt_scale"
      ],
      "execution_count": null,
      "outputs": []
    },
    {
      "cell_type": "markdown",
      "metadata": {
        "id": "oZq2Ltkb3bGg"
      },
      "source": [
        ""
      ]
    },
    {
      "cell_type": "markdown",
      "metadata": {
        "id": "aL9xk37mjhxB"
      },
      "source": [
        "check out you will have the **result.mp4** in first order model directory "
      ]
    },
    {
      "cell_type": "code",
      "metadata": {
        "id": "UxspGTnfjgZN"
      },
      "source": [
        "ls\n"
      ],
      "execution_count": null,
      "outputs": []
    }
  ]
}