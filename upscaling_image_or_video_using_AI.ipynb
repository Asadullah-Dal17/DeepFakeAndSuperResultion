{
  "nbformat": 4,
  "nbformat_minor": 0,
  "metadata": {
    "colab": {
      "name": "upscaling image or video using AI.ipynb",
      "provenance": [],
      "collapsed_sections": []
    },
    "kernelspec": {
      "name": "python3",
      "display_name": "Python 3"
    },
    "language_info": {
      "name": "python"
    },
    "accelerator": "GPU"
  },
  "cells": [
    {
      "cell_type": "markdown",
      "metadata": {
        "id": "vNylZIStZflz"
      },
      "source": [
        "# ***Upscaling image, having Face in It notebook***\n",
        "\n",
        "Code is Available on this Repository [Orignal Github Repo](https://)\n",
        "\n",
        "Create by: Asadullah Dal \n",
        "\n",
        "Company : AiPhile\n",
        "\n",
        "Youtube Channel: [My Youtube Channel](https://www.youtube.com/c/aiphile)\n",
        "\n",
        "\n",
        "**These Steps are same on linux, since here on colab environment already setup for us** \n",
        "1. CUDA is install by default. on linux loacl environment you have to install.\n",
        "2. Install the pyTorch on linux, here on colab its pre-installed., otherwise you can use conda, on linux\n",
        "\n"
      ]
    },
    {
      "cell_type": "markdown",
      "metadata": {
        "id": "9Y-VQKDraHJ1"
      },
      "source": [
        "### Mounting the Google drive to colab"
      ]
    },
    {
      "cell_type": "code",
      "metadata": {
        "id": "OLGJTZTxZWs7"
      },
      "source": [
        "from google.colab import drive\n",
        "drive.mount('/content/drive')"
      ],
      "execution_count": null,
      "outputs": []
    },
    {
      "cell_type": "code",
      "metadata": {
        "id": "8axSQlqIaSFO"
      },
      "source": [
        "ls"
      ],
      "execution_count": null,
      "outputs": []
    },
    {
      "cell_type": "code",
      "metadata": {
        "id": "_UZppUHVae_f"
      },
      "source": [
        "cd drive/MyDrive/"
      ],
      "execution_count": null,
      "outputs": []
    },
    {
      "cell_type": "code",
      "metadata": {
        "id": "W01tivMxaio6"
      },
      "source": [
        "ls"
      ],
      "execution_count": null,
      "outputs": []
    },
    {
      "cell_type": "markdown",
      "metadata": {
        "id": "XqLvpuruaVUC"
      },
      "source": [
        "Cloning Github Repository, DFDNet "
      ]
    },
    {
      "cell_type": "code",
      "metadata": {
        "id": "B1ikilwia1Pl"
      },
      "source": [
        "!git clone https://github.com/csxmli2016/DFDNet.git\n"
      ],
      "execution_count": null,
      "outputs": []
    },
    {
      "cell_type": "code",
      "metadata": {
        "id": "jx4TWc-HbFmL"
      },
      "source": [
        "cd DFDNet/"
      ],
      "execution_count": null,
      "outputs": []
    },
    {
      "cell_type": "code",
      "metadata": {
        "id": "aH7MC_6fbNY3"
      },
      "source": [
        "ls\n"
      ],
      "execution_count": null,
      "outputs": []
    },
    {
      "cell_type": "markdown",
      "metadata": {
        "id": "3A7B2stYasGq"
      },
      "source": [
        "Clone the face Alignment Module Repository"
      ]
    },
    {
      "cell_type": "code",
      "metadata": {
        "id": "pcyHrZFwbbRy"
      },
      "source": [
        "# clone face alignment repository\n",
        "!git clone https://github.com/1adrianb/face-alignment.git"
      ],
      "execution_count": null,
      "outputs": []
    },
    {
      "cell_type": "code",
      "metadata": {
        "id": "q_NGSQa8bj6U"
      },
      "source": [
        "cd face-alignment/"
      ],
      "execution_count": null,
      "outputs": []
    },
    {
      "cell_type": "code",
      "metadata": {
        "id": "PVehFTCFbvCN"
      },
      "source": [
        "ls"
      ],
      "execution_count": null,
      "outputs": []
    },
    {
      "cell_type": "markdown",
      "metadata": {
        "id": "7w0ax1QTaiEM"
      },
      "source": [
        "### Install Requirement for Face Alignment Module, "
      ]
    },
    {
      "cell_type": "code",
      "metadata": {
        "id": "oQ7nZubfb6qG"
      },
      "source": [
        "!pip3 install -r requirements.txt"
      ],
      "execution_count": null,
      "outputs": []
    },
    {
      "cell_type": "markdown",
      "metadata": {
        "id": "exbIUyx_a1ts"
      },
      "source": [
        "### *Install the face Alignment module*"
      ]
    },
    {
      "cell_type": "code",
      "metadata": {
        "id": "cfJ1oqSqcBbk"
      },
      "source": [
        "!python3 setup.py install"
      ],
      "execution_count": null,
      "outputs": []
    },
    {
      "cell_type": "code",
      "metadata": {
        "id": "YcjAdxg-cOVB"
      },
      "source": [
        "cd .."
      ],
      "execution_count": null,
      "outputs": []
    },
    {
      "cell_type": "markdown",
      "metadata": {
        "id": "ReoAYuHWa9hz"
      },
      "source": [
        "***checking the Version of PyTorch***"
      ]
    },
    {
      "cell_type": "code",
      "metadata": {
        "id": "LOfhIajBcVZ4"
      },
      "source": [
        "import torch\n",
        "torch.__version__"
      ],
      "execution_count": null,
      "outputs": []
    },
    {
      "cell_type": "markdown",
      "metadata": {
        "id": "Mo-t0dtfbKLh"
      },
      "source": [
        "## Install the modules Required to Run DFDNet"
      ]
    },
    {
      "cell_type": "markdown",
      "metadata": {
        "id": "QDN1xYdjdGXY"
      },
      "source": [
        "install following package using pip\n",
        "1.   dilb\n",
        "2.   dominate\n",
        "3.   cv2 \n",
        "4.   tqdm\n"
      ]
    },
    {
      "cell_type": "code",
      "metadata": {
        "id": "XG4YQExeddNH"
      },
      "source": [
        "!pip3 install dlib dominate opencv-python tqdm"
      ],
      "execution_count": null,
      "outputs": []
    },
    {
      "cell_type": "code",
      "metadata": {
        "id": "bq6tslePdzpG"
      },
      "source": [
        "ls"
      ],
      "execution_count": null,
      "outputs": []
    },
    {
      "cell_type": "markdown",
      "metadata": {
        "id": "2PwhxPmkyqBh"
      },
      "source": [
        "Delet the the image from \"TestWhole\" directory"
      ]
    },
    {
      "cell_type": "markdown",
      "metadata": {
        "id": "GtdmEc3Ybr17"
      },
      "source": [
        "## Create frame from Video to Upscale the faces in the image\n",
        "\n",
        "-i \"input Video path\"\n",
        "\n",
        "-vf fps ==\"Provide frame rate at which frames need to extracted\"\n",
        "\n",
        "  \"provide the path where frames need to Stored\""
      ]
    },
    {
      "cell_type": "code",
      "metadata": {
        "id": "jz8jQy8db-6Q"
      },
      "source": [
        "!ffmpeg -i result.mp4 -vf  fps=10   TestData/TestWhole/frame_%04d.png"
      ],
      "execution_count": null,
      "outputs": []
    },
    {
      "cell_type": "markdown",
      "metadata": {
        "id": "7eVqQXxJc7a2"
      },
      "source": [
        "\n",
        "## Download Pre-trained Models and place, in the provide directory Structure\n",
        "### Pre-train Models and dictionaries\n",
        "Downloading from the following url and put them into ./.\n",
        "- [BaiduNetDisk](https://pan.baidu.com/s/1K4fzjPiezVSMl5NjHoJCGQ) (s9ht)\n",
        "- [GoogleDrive](https://drive.google.com/drive/folders/1bayYIUMCSGmoFPyd4Uu2Uwn347RW-vl5?usp=sharing)\n",
        "\n",
        "The folder structure should be:\n",
        "    \n",
        "    .\n",
        "    ├── checkpoints                    \n",
        "    │   ├── facefh_dictionary                  \n",
        "    │   │   └── latest_net_G.pth   \n",
        "    ├── weights\n",
        "    │   └── vgg19.pth\n",
        "    ├── DictionaryCenter512\n",
        "    │   ├── right_eye_256_center.npy\n",
        "    │   ├── right_eye_128_center.npy\n",
        "    │   ├── right_eye_64_center.npy\n",
        "    │   ├── right_eye_32_center.npy\n",
        "    │   └── ...\n",
        "    └── ...\n"
      ]
    },
    {
      "cell_type": "code",
      "metadata": {
        "id": "Qrdq9wZpUPyn"
      },
      "source": [
        "# create Directory Structure using linux command\n",
        "!mkdir -p checkpoint/facefh_dictionary weights DictionaryCenter512"
      ],
      "execution_count": null,
      "outputs": []
    },
    {
      "cell_type": "markdown",
      "metadata": {
        "id": "lz948ITrx9Yi"
      },
      "source": [
        "Renaming the file casue the.\n",
        "just removing the \"copy of \""
      ]
    },
    {
      "cell_type": "code",
      "metadata": {
        "id": "8T9YffMojDVO"
      },
      "source": [
        "import os \n",
        "path =\"DictionaryCenter512\"\n",
        "\n",
        "dirList = os.listdir(path)\n",
        "# print(dirList)\n",
        "for file in dirList:\n",
        "  sp = file.split(\" \")\n",
        "  # print(sp[-1])\n",
        "  filePath = os.path.join(path, file)\n",
        "  newFileName = os.path.join(path, sp[-1])\n",
        "  print(newFileName, \"  \", filePath)\n",
        "  os.rename(filePath, newFileName)\n",
        "  # print(filePath)\n",
        "\n",
        "print('rename files as per requirements')\n",
        "  "
      ],
      "execution_count": null,
      "outputs": []
    },
    {
      "cell_type": "code",
      "metadata": {
        "id": "jwT3M-01jP-O"
      },
      "source": [
        "ls DictionaryCenter512"
      ],
      "execution_count": null,
      "outputs": []
    },
    {
      "cell_type": "markdown",
      "metadata": {
        "id": "vVPxf4_6e7Sy"
      },
      "source": [
        "Upscale the image using following python script."
      ]
    },
    {
      "cell_type": "code",
      "metadata": {
        "id": "s39yrRzHkZqN"
      },
      "source": [
        "!python3 test_FaceDict.py --test_path ./TestData/TestWhole --results_dir ./Results/TestWholeResults --upscale_factor 4 --gpu_ids 0 "
      ],
      "execution_count": null,
      "outputs": []
    },
    {
      "cell_type": "markdown",
      "metadata": {
        "id": "sAzcevfQfUsH"
      },
      "source": [
        "### Finally Convert Frame into  Up scalled Video\n",
        "\n",
        "- keep the same ***frame rate***, at which you have Extract the frames \n"
      ]
    },
    {
      "cell_type": "code",
      "metadata": {
        "id": "AVRuTIs4Pwmo"
      },
      "source": [
        "!ffmpeg -framerate 10 -i Results/TestWholeResults/Step4_FinalResults//frame_%04d.png upscaled_video.mp4"
      ],
      "execution_count": null,
      "outputs": []
    },
    {
      "cell_type": "markdown",
      "metadata": {
        "id": "TPbodzs4Zef-"
      },
      "source": [
        ""
      ]
    }
  ]
}